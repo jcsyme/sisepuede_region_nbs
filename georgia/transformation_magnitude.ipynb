{
 "cells": [
  {
   "cell_type": "code",
   "execution_count": 11,
   "metadata": {},
   "outputs": [],
   "source": [
    "import os\n",
    "import pandas as pd\n",
    "import yaml"
   ]
  },
  {
   "cell_type": "code",
   "execution_count": 12,
   "metadata": {},
   "outputs": [],
   "source": [
    "excel_file='data/ssp_georgia_transformation_cw.xlsx'"
   ]
  },
  {
   "cell_type": "code",
   "execution_count": 13,
   "metadata": {},
   "outputs": [],
   "source": [
    "df = pd.read_excel(excel_file, sheet_name='yaml')"
   ]
  },
  {
   "cell_type": "code",
   "execution_count": 14,
   "metadata": {},
   "outputs": [
    {
     "data": {
      "text/plain": [
       "['transformation_agrc_dec_ch4_rice.yaml',\n",
       " 'transformation_agrc_dec_exports.yaml',\n",
       " 'transformation_agrc_dec_losses_supply_chain.yaml',\n",
       " 'transformation_agrc_inc_conservation_agriculture.yaml',\n",
       " 'transformation_agrc_inc_productivity.yaml',\n",
       " 'transformation_ccsq_inc_capture.yaml',\n",
       " 'transformation_entc_dec_losses.yaml',\n",
       " 'transformation_entc_target_clean_hydrogen.yaml',\n",
       " 'transformation_entc_target_renewable_elec.yaml',\n",
       " 'transformation_fgtv_dec_leaks.yaml',\n",
       " 'transformation_fgtv_inc_flare.yaml',\n",
       " 'transformation_inen_inc_efficiency_energy.yaml',\n",
       " 'transformation_inen_inc_efficiency_production.yaml',\n",
       " 'transformation_inen_shift_fuel_heat.yaml',\n",
       " 'transformation_ippu_dec_clinker.yaml',\n",
       " 'transformation_ippu_dec_demand.yaml',\n",
       " 'transformation_ippu_dec_hfcs.yaml',\n",
       " 'transformation_ippu_dec_n2o.yaml',\n",
       " 'transformation_ippu_dec_other_fcs.yaml',\n",
       " 'transformation_ippu_dec_pfcs.yaml',\n",
       " 'transformation_lndu_dec_deforestation.yaml',\n",
       " 'transformation_lndu_dec_soc_loss_pastures.yaml',\n",
       " 'transformation_lndu_inc_reforestation.yaml',\n",
       " 'transformation_lndu_inc_silvopasture.yaml',\n",
       " 'transformation_lsmm_inc_capture_biogas.yaml',\n",
       " 'transformation_lsmm_inc_management_cattle_pigs.yaml',\n",
       " 'transformation_lsmm_inc_management_other.yaml',\n",
       " 'transformation_lsmm_inc_management_poultry.yaml',\n",
       " 'transformation_lvst_dec_enteric_fermentation.yaml',\n",
       " 'transformation_lvst_dec_exports.yaml',\n",
       " 'transformation_lvst_inc_productivity.yaml',\n",
       " 'transformation_pflo_inc_healthier_diets.yaml',\n",
       " 'transformation_pflo_inc_ind_ccs.yaml',\n",
       " 'transformation_scoe_dec_demand_heat.yaml',\n",
       " 'transformation_scoe_inc_efficiency_appliance.yaml',\n",
       " 'transformation_scoe_shift_fuel_heat.yaml',\n",
       " 'transformation_soil_dec_lime_applied.yaml',\n",
       " 'transformation_soil_dec_n_applied.yaml',\n",
       " 'transformation_trde_dec_demand.yaml',\n",
       " 'transformation_trns_inc_efficiency_electric.yaml',\n",
       " 'transformation_trns_inc_efficiency_non_electric.yaml',\n",
       " 'transformation_trns_inc_occupancy_light_duty.yaml',\n",
       " 'transformation_trns_shift_fuel_light_duty.yaml',\n",
       " 'transformation_trns_shift_fuel_maritime.yaml',\n",
       " 'transformation_trns_shift_fuel_medium_duty.yaml',\n",
       " 'transformation_trns_shift_fuel_rail.yaml',\n",
       " 'transformation_trns_shift_mode_freight.yaml',\n",
       " 'transformation_trns_shift_mode_passenger.yaml',\n",
       " 'transformation_trns_shift_mode_regional.yaml',\n",
       " 'transformation_trww_inc_capture_biogas.yaml',\n",
       " 'transformation_trww_inc_compliance_septic.yaml',\n",
       " 'transformation_wali_inc_treatment_industrial.yaml',\n",
       " 'transformation_wali_inc_treatment_rural.yaml',\n",
       " 'transformation_wali_inc_treatment_urban.yaml',\n",
       " 'transformation_waso_dec_consumer_food_waste.yaml',\n",
       " 'transformation_waso_inc_anaerobic_and_compost.yaml',\n",
       " 'transformation_waso_inc_capture_biogas.yaml',\n",
       " 'transformation_waso_inc_energy_from_biogas.yaml',\n",
       " 'transformation_waso_inc_energy_from_incineration.yaml',\n",
       " 'transformation_waso_inc_landfilling.yaml',\n",
       " 'transformation_waso_inc_recycling.yaml']"
      ]
     },
     "execution_count": 14,
     "metadata": {},
     "output_type": "execute_result"
    }
   ],
   "source": [
    "transformation = df['transformation_yaml_name'].unique().tolist()\n",
    "transformation"
   ]
  },
  {
   "cell_type": "code",
   "execution_count": 15,
   "metadata": {},
   "outputs": [],
   "source": [
    "yaml_directory='transformations'"
   ]
  },
  {
   "cell_type": "code",
   "execution_count": 20,
   "metadata": {},
   "outputs": [
    {
     "name": "stdout",
     "output_type": "stream",
     "text": [
      "transformation_agrc_dec_ch4_rice.yaml\n",
      "transformation_agrc_dec_exports.yaml\n",
      "transformation_agrc_dec_losses_supply_chain.yaml\n",
      "transformation_agrc_inc_conservation_agriculture.yaml\n",
      "transformation_agrc_inc_productivity.yaml\n",
      "transformation_ccsq_inc_capture.yaml\n",
      "transformation_entc_dec_losses.yaml\n",
      "transformation_entc_target_clean_hydrogen.yaml\n",
      "transformation_entc_target_renewable_elec.yaml\n",
      "transformation_fgtv_dec_leaks.yaml\n",
      "transformation_fgtv_inc_flare.yaml\n",
      "transformation_inen_inc_efficiency_energy.yaml\n",
      "transformation_inen_inc_efficiency_production.yaml\n",
      "transformation_inen_shift_fuel_heat.yaml\n",
      "transformation_ippu_dec_clinker.yaml\n",
      "transformation_ippu_dec_demand.yaml\n",
      "transformation_ippu_dec_hfcs.yaml\n",
      "transformation_ippu_dec_n2o.yaml\n",
      "transformation_ippu_dec_other_fcs.yaml\n",
      "transformation_ippu_dec_pfcs.yaml\n",
      "transformation_lndu_dec_deforestation.yaml\n",
      "transformation_lndu_dec_soc_loss_pastures.yaml\n",
      "transformation_lndu_inc_reforestation.yaml\n",
      "transformation_lndu_inc_silvopasture.yaml\n",
      "transformation_lsmm_inc_capture_biogas.yaml\n",
      "transformation_lsmm_inc_management_cattle_pigs.yaml\n",
      "transformation_lsmm_inc_management_other.yaml\n",
      "transformation_lsmm_inc_management_poultry.yaml\n",
      "transformation_lvst_dec_enteric_fermentation.yaml\n",
      "transformation_lvst_dec_exports.yaml\n",
      "transformation_lvst_inc_productivity.yaml\n",
      "transformation_pflo_inc_healthier_diets.yaml\n",
      "transformation_pflo_inc_ind_ccs.yaml\n",
      "transformation_scoe_dec_demand_heat.yaml\n",
      "transformation_scoe_inc_efficiency_appliance.yaml\n",
      "transformation_scoe_shift_fuel_heat.yaml\n",
      "transformation_soil_dec_lime_applied.yaml\n",
      "transformation_soil_dec_n_applied.yaml\n",
      "transformation_trde_dec_demand.yaml\n",
      "transformation_trns_inc_efficiency_electric.yaml\n",
      "transformation_trns_inc_efficiency_non_electric.yaml\n",
      "transformation_trns_inc_occupancy_light_duty.yaml\n",
      "transformation_trns_shift_fuel_light_duty.yaml\n",
      "transformation_trns_shift_fuel_maritime.yaml\n",
      "transformation_trns_shift_fuel_medium_duty.yaml\n",
      "transformation_trns_shift_fuel_rail.yaml\n",
      "transformation_trns_shift_mode_freight.yaml\n",
      "transformation_trns_shift_mode_passenger.yaml\n",
      "transformation_trns_shift_mode_regional.yaml\n",
      "transformation_trww_inc_capture_biogas.yaml\n",
      "transformation_trww_inc_compliance_septic.yaml\n",
      "transformation_wali_inc_treatment_industrial.yaml\n",
      "transformation_wali_inc_treatment_rural.yaml\n",
      "transformation_wali_inc_treatment_urban.yaml\n",
      "transformation_waso_dec_consumer_food_waste.yaml\n",
      "transformation_waso_inc_anaerobic_and_compost.yaml\n",
      "transformation_waso_inc_capture_biogas.yaml\n",
      "transformation_waso_inc_energy_from_biogas.yaml\n",
      "transformation_waso_inc_energy_from_incineration.yaml\n",
      "transformation_waso_inc_landfilling.yaml\n",
      "transformation_waso_inc_recycling.yaml\n"
     ]
    }
   ],
   "source": [
    "# Initialize an empty list to store the data\n",
    "data = []\n",
    "\n",
    "# Iterate through each transformation name in the list\n",
    "for transformation_code in transformation:\n",
    "\n",
    "    print(transformation_code)\n",
    "\n",
    "    # Construct the file path for each YAML file\n",
    "    yaml_path = os.path.join(yaml_directory, transformation_code)\n",
    "        \n",
    " # Load the YAML file\n",
    "    with open(yaml_path, 'r') as file:\n",
    "        yaml_content = yaml.safe_load(file)\n",
    "    \n",
    " # Extract the 'parameters' section\n",
    "    parameters = yaml_content.get('parameters', {})\n",
    "    \n",
    "    # Create a dictionary to hold the row data\n",
    "    row = {'transformation_code': transformation_code}\n",
    "    \n",
    "    # Add all parameters as columns, converting `None` to \"null\" as a string\n",
    "    for key, value in parameters.items():\n",
    "        row[key] = \"null\" if value is None else value\n",
    "    \n",
    "    # Append the row to the data list\n",
    "    data.append(row)\n",
    "\n",
    "# Convert the data into a DataFrame\n",
    "df_parameters = pd.DataFrame(data)\n"
   ]
  },
  {
   "cell_type": "code",
   "execution_count": 21,
   "metadata": {},
   "outputs": [],
   "source": [
    "df_parameters.to_csv('/home/fabian_fuentes/repos/sisepuede_region_nbs/georgia/data/magnitudes.csv')"
   ]
  }
 ],
 "metadata": {
  "kernelspec": {
   "display_name": "ssp",
   "language": "python",
   "name": "python3"
  },
  "language_info": {
   "codemirror_mode": {
    "name": "ipython",
    "version": 3
   },
   "file_extension": ".py",
   "mimetype": "text/x-python",
   "name": "python",
   "nbconvert_exporter": "python",
   "pygments_lexer": "ipython3",
   "version": "3.11.10"
  }
 },
 "nbformat": 4,
 "nbformat_minor": 2
}
