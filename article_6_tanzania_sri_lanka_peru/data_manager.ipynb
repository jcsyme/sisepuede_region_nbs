{
 "cells": [
  {
   "cell_type": "code",
   "execution_count": 1,
   "id": "aac24e35-0198-4235-9279-5c2054c86554",
   "metadata": {},
   "outputs": [],
   "source": [
    "# add path to sispeuede to sys.path in python\n",
    "import sys\n",
    "import pathlib\n",
    "import warnings\n",
    "warnings.filterwarnings(\"ignore\")\n",
    "\n",
    "\n",
    "path_git = pathlib.Path(\"/Users/usuario/git\")\n",
    "for subdir in [\n",
    "    \"sisepuede\", \n",
    "    \"sisepuede_data_pipeline\",\n",
    "    \"sisepuede_juypyter\"\n",
    "]:\n",
    "    path_cur = path_git.joinpath(subdir)\n",
    "    if str(path_cur) not in sys.path:\n",
    "        sys.path.append(str(path_cur))\n",
    "\n",
    "path_pipeline = path_git.joinpath(\"sisepuede_data_pipeline\")\n",
    "\n",
    "\n",
    "import importlib\n",
    "import matplotlib.pyplot as plt\n",
    "import numpy as np\n",
    "import os, os.path\n",
    "import pandas as pd\n",
    "import sisepuede.legacy.data_api as api\n",
    "import sisepuede.manager.sisepuede_examples as sxl\n",
    "import sisepuede.manager.sisepuede_file_structure as sfs\n",
    "import sisepuede.manager.sisepuede_models as sm\n",
    "import sisepuede.plotting.plots as spp\n",
    "import sisepuede.utilities._plotting as spu\n",
    "import sisepuede.core.support_classes as sc\n",
    "import sisepuede.utilities._toolbox as sf\n",
    "import time\n",
    "from typing import *\n",
    "\n",
    "\n",
    "import lib.process_utilities as pu\n",
    "import lib.sisepuede_data_constructs as dc\n",
    "import lib._util as lutil\n",
    "\n",
    "\n"
   ]
  },
  {
   "cell_type": "markdown",
   "id": "0d78109e-c099-4aab-acf6-01b33c44b038",
   "metadata": {},
   "source": [
    "##  Option to determine which columns are Peru specific - 20250807"
   ]
  },
  {
   "cell_type": "code",
   "execution_count": 33,
   "id": "340f4593-5021-4496-a9f1-3a7374d734a6",
   "metadata": {},
   "outputs": [],
   "source": [
    "##  SETUP DIRECTORIES\n",
    "\n",
    "path_cur = pathlib.Path(os.getcwd())\n",
    "path_cur = pathlib.Path(\"/Users/usuario/git/sisepuede_region_nbs/generic_regions\")\n",
    "path_data = path_cur.joinpath(\"data\")\n",
    "path_transformations = path_cur.joinpath(\"transformations_peru\")\n",
    "\n",
    "\n",
    "##  SETUP FILES\n",
    "\n",
    "path_data_calib = path_data.joinpath(\"input_all_sectors_peru.csv\")\n",
    "path_data_built = path_data.joinpath(\"sisepuede_raw_global_inputs_peru.csv\")\n",
    "\n",
    "\n",
    "##  SETUP SOME PIPELINE STUFF\n",
    "\n",
    "\n",
    "file_struct = sfs.SISEPUEDEFileStructure()\n",
    "\n",
    "# assign some shortcuts\n",
    "matt = file_struct.model_attributes\n",
    "regions = sc.Regions(matt)\n",
    "time_periods = sc.TimePeriods(matt)\n",
    "\n",
    "\n",
    "##  SOME GLOBALS\n",
    "\n",
    "_REGION_NAME = \"united_republic_of_tanzania\"\n",
    "_REGION_ISO = regions.return_region_or_iso(_REGION_NAME, return_type = \"iso\", )\n"
   ]
  },
  {
   "cell_type": "code",
   "execution_count": 11,
   "id": "6ea3bcf4",
   "metadata": {},
   "outputs": [],
   "source": [
    "importlib.reload(dc)\n",
    "construct = dc.SISEPUEDEDataConstructs(\n",
    "    path_output_database = \"/Users/usuario/git/sisepuede_data_pipeline/sisepuede_inputs.sqlite\",\n",
    ")\n",
    "\n",
    "path_repo = pathlib.Path(\"/Users/usuario/SISEPUEDE_DATA_REPOSITORY\")\n",
    "repo = pu.Repository(\n",
    "    {\n",
    "        \"local\": {\n",
    "            \"path\": str(path_repo)\n",
    "        }\n",
    "    }\n",
    ")"
   ]
  },
  {
   "cell_type": "code",
   "execution_count": 3,
   "id": "acf836aa-a4f5-4a32-926b-0e49a21e17d4",
   "metadata": {},
   "outputs": [],
   "source": [
    "repo_old = api.SISEPUEDEBatchDataRepository(\n",
    "    \"/Users/usuario/git/sisepuede_data\", \n",
    "    matt,\n",
    ")"
   ]
  },
  {
   "cell_type": "code",
   "execution_count": 4,
   "id": "223d5c98-de4e-4467-b2fc-65f22a9ad51b",
   "metadata": {},
   "outputs": [],
   "source": [
    "df_old = repo_old.read(None)"
   ]
  },
  {
   "cell_type": "code",
   "execution_count": null,
   "id": "752f574f-c91b-4fab-8442-f17d47f85fb6",
   "metadata": {},
   "outputs": [],
   "source": []
  },
  {
   "cell_type": "code",
   "execution_count": null,
   "id": "112454ce-20fd-4aba-a977-cd8bbdef4fa4",
   "metadata": {},
   "outputs": [],
   "source": []
  },
  {
   "cell_type": "code",
   "execution_count": 41,
   "id": "8dec555c-86ab-4533-8bed-40618fa62a1d",
   "metadata": {},
   "outputs": [],
   "source": [
    "import temp_update_fields_from_wv_to_main as temp \n",
    "\n",
    "examples = sxl.SISEPUEDEExamples()\n",
    "df_example_input = examples(\"input_data_frame\")\n",
    "\n",
    "\n",
    "# get from original repo\n",
    "df_base = (\n",
    "    df_old[\n",
    "        df_old[repo_old.field_repo_iso].isin([_REGION_ISO])\n",
    "    ]\n",
    "    .copy()\n",
    "    .rename(\n",
    "        columns = {\n",
    "            repo_old.field_repo_iso: regions.field_iso,\n",
    "            repo_old.field_repo_year: time_periods.field_year,\n",
    "        }\n",
    "    )\n",
    ")\n",
    "\n",
    "# get from pipeline\n",
    "df_from_pipeline = construct.build_inputs_from_database(\n",
    "    regions_keep = [_REGION_NAME],\n",
    ")\n",
    "\n",
    "\n",
    "# add in pipeline-based data\n",
    "df_out = sf.match_df_to_target_df(\n",
    "    df_base[\n",
    "        df_base[regions.field_iso].isin([_REGION_ISO])\n",
    "    ],\n",
    "    \n",
    "    df_from_pipeline\n",
    "    .drop(columns = [regions.field_iso]),\n",
    "    \n",
    "    [\n",
    "        construct.time_periods.field_year,\n",
    "    ],\n",
    "    overwrite_only = False,\n",
    ")\n",
    "\n",
    "df_out[time_periods.field_year] = df_out[time_periods.field_year].astype(int)\n",
    "\n",
    "\n",
    "\n",
    "df_out = (\n",
    "    time_periods.years_to_tps(\n",
    "        df_out,\n",
    "    )\n",
    "    .drop(columns = time_periods.field_year)\n",
    ")\n",
    "\n",
    "\n",
    "##  PULL FROM EXAMPLE DF\n",
    "\n",
    "# fields not in peru\n",
    "fields_missing = [\n",
    "    x for x in df_example_input.columns \n",
    "    if (x not in df_out.columns) \n",
    "    and (x in matt.all_variable_fields_input)\n",
    "]\n",
    "\n",
    "# specify fields to pull from the example\n",
    "fields_from_ex = [\n",
    "    x for x in fields_missing \n",
    "    if not (\n",
    "        False#x.startswith(\"frac_lndu_\")\n",
    "        #x.startswith(\"factor_lndu\")\n",
    "        #or x.startswith(\"frac_lndu_\")\n",
    "    )\n",
    "]\n",
    "\n",
    "fields_from_ex = [\n",
    "    x for x in fields_from_ex\n",
    "    if (x not in df_out.columns)\n",
    "]\n",
    "\n",
    "# merge in from ex\n",
    "df_out = pd.merge(\n",
    "    df_out,\n",
    "    df_example_input[fields_from_ex + [time_periods.field_time_period]],\n",
    ")\n",
    "\n",
    "\n",
    "\n",
    "##  TEMPORARY SCRIPT FOR MOVING FROM working_version TO latest full version\n",
    "\n",
    "df_out = temp.update_fields(\n",
    "    df_out,\n",
    "    matt,\n",
    ")\n",
    "\n",
    "# add in key\n",
    "df_out[regions.key] = _REGION_NAME\n"
   ]
  },
  {
   "cell_type": "code",
   "execution_count": 53,
   "id": "f0525e50-c03a-48a3-9174-4e3940a7b36d",
   "metadata": {},
   "outputs": [
    {
     "data": {
      "text/plain": [
       "PosixPath('/Users/usuario/git/sisepuede_region_nbs/article_6_tanzania_sri_lanka_peru/data')"
      ]
     },
     "execution_count": 53,
     "metadata": {},
     "output_type": "execute_result"
    }
   ],
   "source": [
    "df_out.to_csv(\n",
    "    path_data.joinpath(\"output\", f\"sisepuede_data_raw_v0_{_REGION_ISO.lower()}.csv\"),\n",
    "    encoding = \"UTF-8\",\n",
    "    index = None,\n",
    ")"
   ]
  },
  {
   "cell_type": "code",
   "execution_count": null,
   "id": "6fab87ce-58c2-418d-b1b7-d06e2744da50",
   "metadata": {},
   "outputs": [],
   "source": []
  },
  {
   "cell_type": "code",
   "execution_count": null,
   "id": "dd4eaa0a-e234-4375-9cd8-5990a246aa29",
   "metadata": {},
   "outputs": [],
   "source": []
  },
  {
   "cell_type": "code",
   "execution_count": null,
   "id": "c48d5341-94f7-4b5a-9a7d-b4c5992c0cec",
   "metadata": {},
   "outputs": [],
   "source": []
  },
  {
   "cell_type": "code",
   "execution_count": null,
   "id": "82659e8d-228f-48db-a9db-a405b2a06787",
   "metadata": {},
   "outputs": [],
   "source": []
  },
  {
   "cell_type": "code",
   "execution_count": null,
   "id": "80f48623-d80a-4a23-a06f-524b5bb9a169",
   "metadata": {},
   "outputs": [],
   "source": []
  },
  {
   "cell_type": "code",
   "execution_count": null,
   "id": "4fbff749-7ba1-4be4-abd9-b53b5a94494d",
   "metadata": {},
   "outputs": [],
   "source": []
  },
  {
   "cell_type": "code",
   "execution_count": null,
   "id": "7bad6612-3792-4beb-8951-f935be88503e",
   "metadata": {},
   "outputs": [],
   "source": []
  },
  {
   "cell_type": "code",
   "execution_count": null,
   "id": "e9faca79-c0a9-4ed5-a08a-4cb70606228b",
   "metadata": {},
   "outputs": [],
   "source": []
  },
  {
   "cell_type": "code",
   "execution_count": null,
   "id": "99b92e48-a173-422d-9e0a-c3bcd265b829",
   "metadata": {},
   "outputs": [],
   "source": []
  },
  {
   "cell_type": "code",
   "execution_count": null,
   "id": "fd982b32-a2d9-4ded-8c09-46b752a77239",
   "metadata": {},
   "outputs": [],
   "source": []
  },
  {
   "cell_type": "code",
   "execution_count": null,
   "id": "2123034e-b49b-42fe-bd60-1c36e0952315",
   "metadata": {},
   "outputs": [],
   "source": []
  }
 ],
 "metadata": {
  "kernelspec": {
   "display_name": "Python 3 (ipykernel)",
   "language": "python",
   "name": "python3"
  },
  "language_info": {
   "codemirror_mode": {
    "name": "ipython",
    "version": 3
   },
   "file_extension": ".py",
   "mimetype": "text/x-python",
   "name": "python",
   "nbconvert_exporter": "python",
   "pygments_lexer": "ipython3",
   "version": "3.11.8"
  }
 },
 "nbformat": 4,
 "nbformat_minor": 5
}
