{
 "cells": [
  {
   "cell_type": "code",
   "execution_count": 1,
   "id": "cf6260c8-c8dc-40c8-a8e1-4c684082943e",
   "metadata": {},
   "outputs": [],
   "source": [
    "# add path to sispeuede to sys.path in python\n",
    "import sys\n",
    "import warnings\n",
    "dir_git = \"/Users/usuario/git/sisepuede\"\n",
    "if dir_git not in sys.path:\n",
    "    sys.path.append(dir_git)\n",
    "\n",
    "warnings.filterwarnings(\"ignore\")\n",
    "\n",
    "import logging\n",
    "import importlib\n",
    "import matplotlib.pyplot as plt\n",
    "import numpy as np\n",
    "import os, os.path\n",
    "import pandas as pd\n",
    "import pathlib\n",
    "import sisepuede as si\n",
    "import sisepuede.core.model_attributes as ma\n",
    "import sisepuede.core.model_variable as mv\n",
    "import sisepuede.core.support_classes as sc\n",
    "import sisepuede.manager.sisepuede_examples as sxm\n",
    "import sisepuede.manager.sisepuede_file_structure as sfs\n",
    "import sisepuede.manager.sisepuede_models as sm\n",
    "import sisepuede.transformers as trf\n",
    "import sisepuede.utilities._toolbox as sf\n",
    "import time\n",
    "from typing import *\n",
    "\n",
    "# hack for now\n",
    "log_job = None\n",
    "\n",
    "\n",
    "import pymoo\n",
    "\n"
   ]
  },
  {
   "cell_type": "code",
   "execution_count": null,
   "id": "47d1cc93-65a0-457d-afef-0597408efe2b",
   "metadata": {},
   "outputs": [],
   "source": []
  },
  {
   "cell_type": "code",
   "execution_count": null,
   "id": "c56339dc-6284-47f1-9068-c61bbb8e7ca2",
   "metadata": {},
   "outputs": [],
   "source": []
  },
  {
   "cell_type": "code",
   "execution_count": 2,
   "id": "94aa402d-ef80-444a-999b-53482f7cea26",
   "metadata": {},
   "outputs": [],
   "source": [
    "importlib.reload(sfs)\n",
    "struct = sfs.SISEPUEDEFileStructure()\n",
    "examples = sxm.SISEPUEDEExamples()\n",
    "\n",
    "matt = struct.model_attributes\n",
    "regions = sc.Regions(matt)\n",
    "time_periods = sc.TimePeriods(matt)\n",
    "\n",
    "# directories\n",
    "path_cur = pathlib.Path(os.getcwd())\n",
    "path_data = path_cur.joinpath(\"data\")\n",
    "path_transformations = path_cur.joinpath(\"transformations\")\n",
    "if not path_transformations.exists():\n",
    "    path_transformations.mkdir(exist_ok = True, )\n",
    "\n",
    "# file paths\n",
    "fp_inputs = path_data.joinpath(\"louisiana_inputs_raw.csv\")#joinpath(\"louisiana_working_data_20240826\", \"MODEL_INPUTS.csv\")\n",
    "\n"
   ]
  },
  {
   "cell_type": "code",
   "execution_count": null,
   "id": "4d31b537-2383-467b-b81c-93dcc2f37c93",
   "metadata": {},
   "outputs": [],
   "source": [
    "df_input = pd.read_csv(path_data.joinpath(\"louisiana_inputs_raw.csv\"))\n",
    "\n",
    "\n",
    "# then, you can load this back in after modifying (play around with it)\n",
    "transformations = trf.Transformations(\n",
    "    path_transformations,\n",
    "    df_input = df_input\n",
    "    #transformers = transformers,\n",
    ")\n",
    "\n",
    "transformers = transformations.transformers\n",
    "\n",
    "#  build the strategies -- will export to path\n",
    "t0 = time.time()\n",
    "strategies = trf.Strategies(\n",
    "    transformations,\n",
    "    export_path = \"transformations\",\n",
    "    prebuild = True,\n",
    ")\n",
    "\n"
   ]
  },
  {
   "cell_type": "code",
   "execution_count": null,
   "id": "26a4ab36-3afb-4471-8843-fb3b10281f7c",
   "metadata": {},
   "outputs": [],
   "source": [
    "\n",
    "ssp = si.SISEPUEDE(\n",
    "    \"calibrated\",\n",
    "    #attribute_time_period = attr_time_period,\n",
    "    db_type = \"csv\", # must run as a CSV for now\n",
    "    initialize_as_dummy = False, # no connection to Julia is initialized if set to True\n",
    "    logger = log_job,\n",
    "    random_seed = 446182,\n",
    "    regions = [\"louisiana\"],\n",
    "    strategies = strategies,\n",
    "    try_exogenous_xl_types_in_variable_specification = False,\n",
    ")\n",
    "\n",
    "log_job = ssp.logger\n"
   ]
  },
  {
   "cell_type": "code",
   "execution_count": null,
   "id": "7233051d-7963-4b6d-9d32-0bbe5939f2c4",
   "metadata": {},
   "outputs": [],
   "source": []
  },
  {
   "cell_type": "code",
   "execution_count": null,
   "id": "ce393d97-c7d9-4aa5-81d7-9888bbc83913",
   "metadata": {},
   "outputs": [],
   "source": []
  },
  {
   "cell_type": "code",
   "execution_count": null,
   "id": "5d186661-0544-4aa0-98dd-2916e68c9775",
   "metadata": {},
   "outputs": [],
   "source": []
  },
  {
   "cell_type": "code",
   "execution_count": null,
   "id": "846f86bd-53aa-42ab-8c16-1ba0fd7727cb",
   "metadata": {},
   "outputs": [],
   "source": []
  },
  {
   "cell_type": "code",
   "execution_count": null,
   "id": "1354821e-174b-4994-b005-400bb5475cf1",
   "metadata": {},
   "outputs": [],
   "source": []
  }
 ],
 "metadata": {
  "kernelspec": {
   "display_name": "Python 3 (ipykernel)",
   "language": "python",
   "name": "python3"
  },
  "language_info": {
   "codemirror_mode": {
    "name": "ipython",
    "version": 3
   },
   "file_extension": ".py",
   "mimetype": "text/x-python",
   "name": "python",
   "nbconvert_exporter": "python",
   "pygments_lexer": "ipython3",
   "version": "3.11.8"
  }
 },
 "nbformat": 4,
 "nbformat_minor": 5
}
