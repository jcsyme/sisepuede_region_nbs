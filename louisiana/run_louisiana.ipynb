{
 "cells": [
  {
   "cell_type": "code",
   "execution_count": 1,
   "id": "3b7684c1-cc5f-4136-bd2a-3d63d7fba819",
   "metadata": {},
   "outputs": [],
   "source": [
    "# add path to sispeuede to sys.path in python\n",
    "import sys\n",
    "import warnings\n",
    "dir_git = \"/Users/usuario/git/sisepuede\"\n",
    "if dir_git not in sys.path:\n",
    "    sys.path.append(dir_git)\n",
    "\n",
    "\n",
    "warnings.filterwarnings(\"ignore\")\n",
    "\n",
    "import logging\n",
    "import importlib\n",
    "import matplotlib.pyplot as plt\n",
    "import numpy as np\n",
    "import os, os.path\n",
    "import pandas as pd\n",
    "import pathlib\n",
    "import sisepuede as si\n",
    "import sisepuede.core.model_attributes as ma\n",
    "import sisepuede.core.model_variable as mv\n",
    "import sisepuede.core.support_classes as sc\n",
    "import sisepuede.manager.sisepuede_examples as sxm\n",
    "import sisepuede.manager.sisepuede_file_structure as sfs\n",
    "import sisepuede.manager.sisepuede_models as sm\n",
    "import sisepuede.transformers as trf\n",
    "import sisepuede.utilities._toolbox as sf\n",
    "import time\n",
    "from typing import *\n",
    "\n",
    "# hack for now\n",
    "log_job = None\n",
    "\n"
   ]
  },
  {
   "cell_type": "markdown",
   "id": "bcf4f77b-3468-487e-9d87-3348a7f827dc",
   "metadata": {},
   "source": [
    "# Setup the file structure and read in data"
   ]
  },
  {
   "cell_type": "code",
   "execution_count": 2,
   "id": "cca20b41-d970-457d-a076-0d5ad4c5c2eb",
   "metadata": {},
   "outputs": [],
   "source": [
    "struct = sfs.SISEPUEDEFileStructure()\n",
    "examples = sxm.SISEPUEDEExamples()\n",
    "\n",
    "matt = struct.model_attributes\n",
    "regions = sc.Regions(matt)\n",
    "time_periods = sc.TimePeriods(matt)\n",
    "\n",
    "# directories\n",
    "path_cur = pathlib.Path(os.getcwd())\n",
    "path_data = path_cur.joinpath(\"data\")\n",
    "path_transformations = path_cur.joinpath(\"transformations\")\n",
    "if not path_transformations.exists():\n",
    "    path_transformations.mkdir(exist_ok = True, )\n",
    "\n",
    "# file paths\n",
    "fp_inputs = path_data.joinpath(\"louisiana_working_data_20240826\", \"MODEL_INPUTS.csv\")\n",
    "\n"
   ]
  },
  {
   "cell_type": "markdown",
   "id": "f0e3b652-aa72-41ce-b9d8-d58c897fa67f",
   "metadata": {},
   "source": [
    "##  Format input data"
   ]
  },
  {
   "cell_type": "code",
   "execution_count": 3,
   "id": "82f6dcfa-921d-410c-8699-e6e1ad04a61c",
   "metadata": {},
   "outputs": [],
   "source": [
    "# read in default data\n",
    "regions_run = [\"louisiana\"]\n",
    "\n",
    "df_inputs_base_la = pd.read_csv(fp_inputs, )\n",
    "df_input = df_inputs_base_la.copy()\n",
    "\n",
    "\n",
    "# overwrite some variables\n",
    "for mvname in [\"Agriculture Equivalent Exports\", \"Livestock Equivalent Exports\"]:\n",
    "    modvar = matt.get_variable(mvname)\n",
    "    if modvar is None:\n",
    "        raise RuntimeError(f\"Error: model variable '{mvname}' not found.\")\n",
    "    df_input[modvar.fields] = 0\n",
    "\n",
    "\n",
    "# filter\n",
    "field_region = regions.key\n",
    "regions_run = [\n",
    "    x for x in regions_run if x in list(df_input[field_region].unique())\n",
    "]\n",
    "\n",
    "# reduce inputs\n",
    "df_input = (\n",
    "    df_input[\n",
    "        df_input[field_region].isin(regions_run)\n",
    "    ]\n",
    "    .drop(columns = [matt.dim_primary_id])\n",
    "    .reset_index(drop = True)\n",
    ")\n",
    "\n",
    "\n"
   ]
  },
  {
   "cell_type": "code",
   "execution_count": null,
   "id": "6246b454-16f7-4a90-a486-b2376f79d51c",
   "metadata": {},
   "outputs": [],
   "source": []
  },
  {
   "cell_type": "markdown",
   "id": "9b70ce54-0b81-44ee-a606-07540d9cecb2",
   "metadata": {},
   "source": [
    "# build transformations"
   ]
  },
  {
   "cell_type": "code",
   "execution_count": 4,
   "id": "2168c90d-f027-489f-acc8-40e67e1c28ed",
   "metadata": {},
   "outputs": [
    {
     "name": "stdout",
     "output_type": "stream",
     "text": [
      "Strategies defined at /Users/usuario/git/sisepuede_region_nbs/louisiana/transformations initialized in 1.92 seconds\n"
     ]
    }
   ],
   "source": [
    "transformers = trf.Transformers(\n",
    "    {},\n",
    "    df_input = df_input,\n",
    ")\n",
    "\n",
    "if not path_transformations.exists():\n",
    "    \n",
    "    print(\"BUILDING DEFAULT TRANSFORMATIONS\")\n",
    "    \n",
    "    trf.instantiate_default_strategy_directory(\n",
    "        transformers,\n",
    "        path_transformations,\n",
    "    )\n",
    "\n",
    "\n",
    "# then, you can load this back in after modifying (play around with it)\n",
    "transformations = trf.Transformations(\n",
    "    path_transformations,\n",
    "    transformers = transformers,\n",
    ")\n",
    "tab = transformations.attribute_transformation.table\n",
    "\n",
    "\n",
    "# build strategies\n",
    "#  build the strategies -- will export to path\n",
    "t0 = time.time()\n",
    "strategies = trf.Strategies(\n",
    "    transformations,\n",
    "    export_path = \"transformations\",\n",
    "    prebuild = True,\n",
    ")\n",
    "\n",
    "t_elapse = sf.get_time_elapsed(t0)\n",
    "print(f\"Strategies defined at {strategies.transformations.dir_init} initialized in {t_elapse} seconds\")\n",
    "\n",
    "# build whirlpool with existing data\n",
    "# tss = strategies.build_whirlpool_strategies(6004, ids = list(range(7101, 7160)))\n",
    "\n",
    "\n",
    "\n"
   ]
  },
  {
   "cell_type": "markdown",
   "id": "1b2ca1be-4075-416e-a8d5-86b105f0c48d",
   "metadata": {},
   "source": [
    "# Build the strategies to templates (include default variable trajectory groups)"
   ]
  },
  {
   "cell_type": "code",
   "execution_count": 6,
   "id": "4a2cefe6-3984-47ea-865e-f57041f564a3",
   "metadata": {},
   "outputs": [
    {
     "data": {
      "text/plain": [
       "0"
      ]
     },
     "execution_count": 6,
     "metadata": {},
     "output_type": "execute_result"
    }
   ],
   "source": [
    "df_vargroups = examples(\"variable_trajectory_group_specification\")\n",
    "strategies.build_strategies_to_templates(\n",
    "    df_trajgroup = df_vargroups,\n",
    "    include_simplex_group_as_trajgroup = True,\n",
    "    strategies = [0, 6002],#strategies.all_strategies,#list(range(7101, 7160)),#[0, 6003, 6004, 6005] #+ list(range(7001, 7062)), # list(range(7101, 7160))\n",
    ")\n",
    "\n",
    "\n"
   ]
  },
  {
   "cell_type": "markdown",
   "id": "81505518-b5ea-492c-9ff9-e41bda28cff9",
   "metadata": {},
   "source": [
    "# Run the model\n"
   ]
  },
  {
   "cell_type": "code",
   "execution_count": 5,
   "id": "3fcbace4-9f06-4287-a7ca-bcc301cfb0b2",
   "metadata": {
    "collapsed": true,
    "jupyter": {
     "outputs_hidden": true
    }
   },
   "outputs": [
    {
     "name": "stderr",
     "output_type": "stream",
     "text": [
      "2025-01-15 14:20:21,002 - INFO - Successfully initialized SISEPUEDEFileStructure.\n",
      "2025-01-15 14:20:21,004 - WARNING - Missing key dict_dimensional_keys: key time_series not found. Tables that rely on the time_series will not have index checking.\n",
      "2025-01-15 14:20:21,004 - INFO - \tSetting export engine to 'csv'.\n",
      "2025-01-15 14:20:21,005 - WARNING - No index fields defined. Index field values will not be checked when writing to tables.\n",
      "2025-01-15 14:20:21,006 - INFO - Successfully instantiated table ANALYSIS_METADATA\n",
      "2025-01-15 14:20:21,006 - WARNING - No index fields found in ATTRIBUTE_DESIGN. Initializing index fields.\n",
      "2025-01-15 14:20:21,006 - INFO - Successfully instantiated table ATTRIBUTE_DESIGN\n",
      "2025-01-15 14:20:21,007 - WARNING - No index fields found in ATTRIBUTE_LHC_SAMPLES_EXOGENOUS_UNCERTAINTIES. Initializing index fields.\n",
      "2025-01-15 14:20:21,007 - INFO - Successfully instantiated table ATTRIBUTE_LHC_SAMPLES_EXOGENOUS_UNCERTAINTIES\n",
      "2025-01-15 14:20:21,007 - WARNING - No index fields found in ATTRIBUTE_LHC_SAMPLES_LEVER_EFFECTS. Initializing index fields.\n",
      "2025-01-15 14:20:21,007 - INFO - Successfully instantiated table ATTRIBUTE_LHC_SAMPLES_LEVER_EFFECTS\n",
      "2025-01-15 14:20:21,008 - WARNING - No index fields found in ATTRIBUTE_PRIMARY. Initializing index fields.\n",
      "2025-01-15 14:20:21,008 - INFO - Successfully instantiated table ATTRIBUTE_PRIMARY\n",
      "2025-01-15 14:20:21,008 - WARNING - No index fields found in ATTRIBUTE_STRATEGY. Initializing index fields.\n",
      "2025-01-15 14:20:21,009 - INFO - Successfully instantiated table ATTRIBUTE_STRATEGY\n",
      "2025-01-15 14:20:21,009 - WARNING - No index fields found in MODEL_BASE_INPUT_DATABASE. Initializing index fields.\n",
      "2025-01-15 14:20:21,009 - INFO - Successfully instantiated table MODEL_BASE_INPUT_DATABASE\n",
      "2025-01-15 14:20:21,010 - WARNING - No index fields found in MODEL_INPUT. Initializing index fields.\n",
      "2025-01-15 14:20:21,010 - INFO - Successfully instantiated table MODEL_INPUT\n",
      "2025-01-15 14:20:21,010 - WARNING - No index fields found in MODEL_OUTPUT. Initializing index fields.\n",
      "2025-01-15 14:20:21,010 - INFO - Successfully instantiated table MODEL_OUTPUT\n",
      "2025-01-15 14:20:21,011 - INFO - SISEPUEDEOutputDatabase successfully initialized IterativeDatabase.\n",
      "2025-01-15 14:20:21,011 - INFO - Successfully initialized database with:\n",
      "\ttype:\tcsv\n",
      "\tanalysis id:\tsisepuede_run_2025-01-15T14:20:20.609391\n",
      "\tfp_base_output:\t/Users/usuario/git/sisepuede/sisepuede/out/sisepuede_run_2025-01-15T14;20;20.609391/sisepuede_run_2025-01-15T14;20;20.609391_output_database\n",
      "2025-01-15 14:20:21,011 - INFO - Running SISEPUEDE under template data mode 'calibrated'.\n",
      "2025-01-15 14:20:21,011 - INFO - Initializing BaseInputDatabase\n",
      "2025-01-15 14:20:21,553 - INFO - Initializing FutureTrajectories\n",
      "2025-01-15 14:20:23,372 - INFO - Instantiating 1502 sampling units.\n",
      "2025-01-15 14:20:23,388 - INFO - Iteration 0 complete.\n",
      "2025-01-15 14:20:26,282 - INFO - Iteration 250 complete.\n",
      "2025-01-15 14:20:28,095 - INFO - Iteration 500 complete.\n",
      "2025-01-15 14:20:29,952 - INFO - Iteration 750 complete.\n",
      "2025-01-15 14:20:31,846 - INFO - Iteration 1000 complete.\n",
      "2025-01-15 14:20:33,630 - INFO - Iteration 1250 complete.\n",
      "2025-01-15 14:20:35,526 - INFO - Iteration 1500 complete.\n",
      "2025-01-15 14:20:35,534 - INFO - \t1502 sampling units complete in 12.16 seconds.\n",
      "2025-01-15 14:20:35,539 - INFO - \tFutureTrajectories for 'louisiana' complete.\n",
      "2025-01-15 14:20:35,539 - INFO - Initializing LHSDesign\n",
      "2025-01-15 14:20:35,539 - INFO - LHSDesign.fields_factors_l reset successful.\n",
      "2025-01-15 14:20:35,540 - INFO - LHSDesign.fields_factors_x reset successful.\n",
      "2025-01-15 14:20:35,553 - INFO - \tLHSDesign for region 'louisiana' complete.\n",
      "2025-01-15 14:20:35,553 - INFO - Generating primary keys (values of primary_id)...\n",
      "2025-01-15 14:20:35,554 - INFO - Successfully initialized SISEPUEDEExperimentalManager.\n",
      "2025-01-15 14:20:35,555 - INFO - Successfully initialized NemoMod temporary database path as /Users/usuario/git/sisepuede/sisepuede/tmp/nemomod_intermediate_database.sqlite.\n",
      "2025-01-15 14:20:35,555 - INFO - Set Julia directory for modules and environment to '/Users/usuario/git/sisepuede/sisepuede/julia'.\n",
      "2025-01-15 14:20:35,608 - INFO - Successfully read NemoMod input table data from /Users/usuario/git/sisepuede/sisepuede/ref/nemo_mod/AvailabilityFactor.csv\n",
      "2025-01-15 14:20:35,612 - INFO - Successfully read NemoMod input table data from /Users/usuario/git/sisepuede/sisepuede/ref/nemo_mod/SpecifiedDemandProfile.csv\n",
      "2025-01-15 14:20:35,670 - INFO - Importing Julia...\n"
     ]
    },
    {
     "name": "stdout",
     "output_type": "stream",
     "text": [
      "Detected IPython. Loading juliacall extension. See https://juliapy.github.io/PythonCall.jl/stable/compat/#IPython\n"
     ]
    },
    {
     "name": "stderr",
     "output_type": "stream",
     "text": [
      "Precompiling NemoMod\n",
      "        Info Given NemoMod was explicitly requested, output will be shown live \u001b[0K\n",
      "\u001b[0KWARNING: Method definition parse_line(String) in module ConfParser at /Users/usuario/.julia/packages/ConfParser/b2fge/src/ConfParser.jl:95 overwritten in module NemoMod at /Users/usuario/.julia/packages/NemoMod/p49Bn/src/other_functions.jl:35.\n",
      "\u001b[0KERROR: Method overwriting is not permitted during Module precompilation. Use `__precompile__(false)` to opt-out of precompilation.\n",
      "  ? NemoMod\n",
      "[ Info: Precompiling NemoMod [a3c327a0-d2f0-11e8-37fd-d12fd35c3c72]\n",
      "WARNING: Method definition parse_line(String) in module ConfParser at /Users/usuario/.julia/packages/ConfParser/b2fge/src/ConfParser.jl:95 overwritten in module NemoMod at /Users/usuario/.julia/packages/NemoMod/p49Bn/src/other_functions.jl:35.\n",
      "ERROR: Method overwriting is not permitted during Module precompilation. Use `__precompile__(false)` to opt-out of precompilation.\n",
      "[ Info: Skipping precompilation since __precompile__(false). Importing NemoMod [a3c327a0-d2f0-11e8-37fd-d12fd35c3c72].\n",
      "2025-01-15 14:20:59,357 - INFO - Successfully initialized JuMP optimizer from solver module HiGHS.\n",
      "2025-01-15 14:20:59,372 - INFO - Successfully initialized SISEPUEDEModels.\n",
      "2025-01-15 14:20:59,379 - INFO - Table ANALYSIS_METADATA successfully written to /Users/usuario/git/sisepuede/sisepuede/out/sisepuede_run_2025-01-15T14;20;20.609391/sisepuede_run_2025-01-15T14;20;20.609391_output_database/ANALYSIS_METADATA.csv.\n",
      "2025-01-15 14:20:59,380 - INFO - Table ATTRIBUTE_DESIGN successfully written to /Users/usuario/git/sisepuede/sisepuede/out/sisepuede_run_2025-01-15T14;20;20.609391/sisepuede_run_2025-01-15T14;20;20.609391_output_database/ATTRIBUTE_DESIGN.csv.\n",
      "2025-01-15 14:20:59,382 - INFO - Table ATTRIBUTE_STRATEGY successfully written to /Users/usuario/git/sisepuede/sisepuede/out/sisepuede_run_2025-01-15T14;20;20.609391/sisepuede_run_2025-01-15T14;20;20.609391_output_database/ATTRIBUTE_STRATEGY.csv.\n",
      "2025-01-15 14:20:59,459 - INFO - Table MODEL_BASE_INPUT_DATABASE successfully written to /Users/usuario/git/sisepuede/sisepuede/out/sisepuede_run_2025-01-15T14;20;20.609391/sisepuede_run_2025-01-15T14;20;20.609391_output_database/MODEL_BASE_INPUT_DATABASE.csv.\n"
     ]
    }
   ],
   "source": [
    "\n",
    "ssp = si.SISEPUEDE(\n",
    "    \"calibrated\",\n",
    "    db_type = \"csv\", # must run as a CSV for now\n",
    "    initialize_as_dummy = False, # no connection to Julia is initialized if set to True\n",
    "    logger = log_job,\n",
    "    regions = [\"louisiana\"],\n",
    "    strategies = strategies,\n",
    "    try_exogenous_xl_types_in_variable_specification = True,\n",
    ")\n",
    "\n",
    "log_job = ssp.logger\n"
   ]
  },
  {
   "cell_type": "markdown",
   "id": "97807e33-26e0-424a-b4a1-ac15d43c01a5",
   "metadata": {},
   "source": [
    "# Check the design id--here's where we'll leverage it\n",
    "- `design_id` controls what variables vary where; we'll vary the effects only\n",
    "- as of the latest run (20250114), `design_id 3` varies lever effects (LEs) only between 10% and 100% of implementation"
   ]
  },
  {
   "cell_type": "code",
   "execution_count": 9,
   "id": "a1ea1371-95d9-4669-abaa-ade7dda5abd7",
   "metadata": {},
   "outputs": [
    {
     "data": {
      "text/html": [
       "<div>\n",
       "<style scoped>\n",
       "    .dataframe tbody tr th:only-of-type {\n",
       "        vertical-align: middle;\n",
       "    }\n",
       "\n",
       "    .dataframe tbody tr th {\n",
       "        vertical-align: top;\n",
       "    }\n",
       "\n",
       "    .dataframe thead th {\n",
       "        text-align: right;\n",
       "    }\n",
       "</style>\n",
       "<table border=\"1\" class=\"dataframe\">\n",
       "  <thead>\n",
       "    <tr style=\"text-align: right;\">\n",
       "      <th></th>\n",
       "      <th>design_id</th>\n",
       "      <th>vary_l</th>\n",
       "      <th>vary_x</th>\n",
       "      <th>linear_transform_l_m</th>\n",
       "      <th>linear_transform_l_b</th>\n",
       "      <th>linear_transform_l_inf</th>\n",
       "      <th>linear_transform_l_sup</th>\n",
       "      <th>design_name</th>\n",
       "      <th>include</th>\n",
       "    </tr>\n",
       "  </thead>\n",
       "  <tbody>\n",
       "    <tr>\n",
       "      <th>0</th>\n",
       "      <td>0</td>\n",
       "      <td>0</td>\n",
       "      <td>1</td>\n",
       "      <td>1.00</td>\n",
       "      <td>0.00</td>\n",
       "      <td>1.00</td>\n",
       "      <td>1</td>\n",
       "      <td>Vary Xs (design 0)</td>\n",
       "      <td>1</td>\n",
       "    </tr>\n",
       "    <tr>\n",
       "      <th>1</th>\n",
       "      <td>1</td>\n",
       "      <td>1</td>\n",
       "      <td>1</td>\n",
       "      <td>0.75</td>\n",
       "      <td>0.25</td>\n",
       "      <td>0.25</td>\n",
       "      <td>1</td>\n",
       "      <td>Vary Xs and Les; Cap LE at 1 (design 1)</td>\n",
       "      <td>1</td>\n",
       "    </tr>\n",
       "    <tr>\n",
       "      <th>2</th>\n",
       "      <td>2</td>\n",
       "      <td>1</td>\n",
       "      <td>1</td>\n",
       "      <td>1.25</td>\n",
       "      <td>0.00</td>\n",
       "      <td>0.25</td>\n",
       "      <td>1</td>\n",
       "      <td>Vary Xs and LEs; Cap LE at 1.1 (design 2, 20% ...</td>\n",
       "      <td>1</td>\n",
       "    </tr>\n",
       "    <tr>\n",
       "      <th>3</th>\n",
       "      <td>3</td>\n",
       "      <td>1</td>\n",
       "      <td>0</td>\n",
       "      <td>0.90</td>\n",
       "      <td>0.10</td>\n",
       "      <td>0.10</td>\n",
       "      <td>1</td>\n",
       "      <td>Vary LEs; (design 3)</td>\n",
       "      <td>1</td>\n",
       "    </tr>\n",
       "  </tbody>\n",
       "</table>\n",
       "</div>"
      ],
      "text/plain": [
       "   design_id  vary_l  vary_x  linear_transform_l_m  linear_transform_l_b  \\\n",
       "0          0       0       1                  1.00                  0.00   \n",
       "1          1       1       1                  0.75                  0.25   \n",
       "2          2       1       1                  1.25                  0.00   \n",
       "3          3       1       0                  0.90                  0.10   \n",
       "\n",
       "   linear_transform_l_inf  linear_transform_l_sup  \\\n",
       "0                    1.00                       1   \n",
       "1                    0.25                       1   \n",
       "2                    0.25                       1   \n",
       "3                    0.10                       1   \n",
       "\n",
       "                                         design_name  include  \n",
       "0                                 Vary Xs (design 0)        1  \n",
       "1            Vary Xs and Les; Cap LE at 1 (design 1)        1  \n",
       "2  Vary Xs and LEs; Cap LE at 1.1 (design 2, 20% ...        1  \n",
       "3                               Vary LEs; (design 3)        1  "
      ]
     },
     "execution_count": 9,
     "metadata": {},
     "output_type": "execute_result"
    }
   ],
   "source": [
    "matt.get_dimensional_attribute_table(matt.dim_design_id)"
   ]
  },
  {
   "cell_type": "markdown",
   "id": "6ecc4de2-cdc9-4c46-98dd-7888085cb197",
   "metadata": {},
   "source": [
    "###   Since we didn't specify it, we'll run the config default # of samples"
   ]
  },
  {
   "cell_type": "code",
   "execution_count": 21,
   "id": "ee818d02-3191-4df3-bc13-67874d022d42",
   "metadata": {},
   "outputs": [
    {
     "data": {
      "text/plain": [
       "1000"
      ]
     },
     "execution_count": 21,
     "metadata": {},
     "output_type": "execute_result"
    }
   ],
   "source": [
    "ssp.model_attributes.configuration.get(\"num_lhc_samples\")"
   ]
  },
  {
   "cell_type": "markdown",
   "id": "a24e7af3-990e-49da-b281-18de44f84980",
   "metadata": {},
   "source": [
    "##  Run the model here\n",
    "- will specify `strategy_id` associated with All Actions and `design_id = 3`\n",
    "- do not specify `future_id` because we are running across all available futures"
   ]
  },
  {
   "cell_type": "code",
   "execution_count": null,
   "id": "fc33efe6-4742-4252-a350-1b1ee4bd5069",
   "metadata": {},
   "outputs": [],
   "source": [
    "dict_scens = {\n",
    "    # we exclude future because we will run across all futures\n",
    "    ssp.key_design: [3],\n",
    "    ssp.key_strategy: [6002],\n",
    "}\n",
    "\n",
    "\n",
    "ssp.project_scenarios(\n",
    "    dict_scens,\n",
    "    check_results = False,\n",
    "    save_inputs = True,\n",
    ")\n"
   ]
  },
  {
   "cell_type": "code",
   "execution_count": null,
   "id": "717b68f3-387f-4601-a372-5b5be15d6813",
   "metadata": {},
   "outputs": [],
   "source": []
  },
  {
   "cell_type": "markdown",
   "id": "abca8c26-c5af-4655-a724-e5b852471496",
   "metadata": {},
   "source": [
    "# Finally, we can export a summary file"
   ]
  },
  {
   "cell_type": "code",
   "execution_count": null,
   "id": "c23968e7-fd92-4bc7-8304-69d99962c73b",
   "metadata": {},
   "outputs": [],
   "source": [
    "df_out = ssp.read_output(None)\n",
    "df_in = ssp.read_input(None)\n",
    "all_primaries = sorted(list(df_out[ssp.key_primary].unique()))\n",
    "\n",
    "# build if unable to simply read the data frame\n",
    "if df_in is None:\n",
    "    df_in = []\n",
    "     \n",
    "    for region in ssp.regions:\n",
    "        for primary in all_primaries: \n",
    "            df_in_filt = ssp.generate_scenario_database_from_primary_key(primary)\n",
    "            df_in.append(df_in_filt.get(region))\n",
    "    \n",
    "    df_in = pd.concat(df_in, axis = 0).reset_index(drop = True)\n",
    "\n",
    "\n",
    "df_export = pd.merge(\n",
    "    df_out,\n",
    "    df_in,\n",
    "    how = \"left\",\n",
    ")\n",
    "\n",
    "\n",
    "\n",
    "\n",
    "\n",
    "# check output directory \n",
    "dir_pkg = os.path.join(\n",
    "    ssp.file_struct.dir_out, \n",
    "    f\"sisepuede_summary_results_run_{ssp.id_fs_safe}\"\n",
    ")\n",
    "os.makedirs(dir_pkg) if not os.path.exists(dir_pkg) else None\n",
    "\n",
    "\n",
    "for tab in [\"ATTRIBUTE_STRATEGY\"]:\n",
    "    ssp.database.db.read_table(tab).to_csv(\n",
    "        os.path.join(dir_pkg, f\"{tab}.csv\"),\n",
    "        index = None,\n",
    "        encoding = \"UTF-8\"\n",
    "    )\n",
    "\n",
    "\n",
    "df_primary = (\n",
    "    ssp\n",
    "    .odpt_primary\n",
    "    .get_indexing_dataframe(\n",
    "        sorted(list(df_out[ssp.key_primary].unique()))\n",
    "    )\n",
    ")\n",
    "    \n",
    "df_primary.to_csv(\n",
    "    os.path.join(dir_pkg, f\"ATTRIBUTE_PRIMARY.csv\"),\n",
    "    index = None,\n",
    "    encoding = \"UTF-8\"\n",
    ")\n",
    "\n",
    "df_export.to_csv(\n",
    "    os.path.join(dir_pkg, f\"sisepuede_results_{ssp.id_fs_safe}_WIDE_INPUTS_OUTPUTS.csv\"),\n",
    "    index = None,\n",
    "    encoding = \"UTF-8\"\n",
    ")"
   ]
  },
  {
   "cell_type": "code",
   "execution_count": null,
   "id": "f8bb4668-127c-47af-9368-72feac8a0ff4",
   "metadata": {},
   "outputs": [],
   "source": []
  },
  {
   "cell_type": "code",
   "execution_count": null,
   "id": "e35d0cef-0dbd-41f8-bfc9-5ebd9c3309ee",
   "metadata": {},
   "outputs": [],
   "source": []
  },
  {
   "cell_type": "code",
   "execution_count": null,
   "id": "1c431899-21ca-46e3-b558-761dba5388a1",
   "metadata": {},
   "outputs": [],
   "source": []
  },
  {
   "cell_type": "code",
   "execution_count": null,
   "id": "bc7a0161-799e-4db4-8604-cef2138abc72",
   "metadata": {},
   "outputs": [],
   "source": []
  },
  {
   "cell_type": "code",
   "execution_count": null,
   "id": "c3a09c53-3311-4e6e-86f5-4b1c94b80bc4",
   "metadata": {},
   "outputs": [],
   "source": []
  },
  {
   "cell_type": "code",
   "execution_count": null,
   "id": "9f8be3aa-146f-43a6-a80b-afe1ed41b3bb",
   "metadata": {},
   "outputs": [],
   "source": []
  },
  {
   "cell_type": "code",
   "execution_count": null,
   "id": "fc649f1d-c202-45ea-b70b-f4583ec4be6a",
   "metadata": {},
   "outputs": [],
   "source": []
  },
  {
   "cell_type": "code",
   "execution_count": null,
   "id": "47ca8737-81bb-41aa-a063-a19041fc7c15",
   "metadata": {},
   "outputs": [],
   "source": []
  },
  {
   "cell_type": "code",
   "execution_count": null,
   "id": "c92ac978-b1c8-4fff-898c-0f120282b880",
   "metadata": {},
   "outputs": [],
   "source": []
  },
  {
   "cell_type": "code",
   "execution_count": null,
   "id": "7706ea49-5e59-4a7d-a74e-6437a3ad8c23",
   "metadata": {},
   "outputs": [],
   "source": []
  }
 ],
 "metadata": {
  "kernelspec": {
   "display_name": "Python 3 (ipykernel)",
   "language": "python",
   "name": "python3"
  },
  "language_info": {
   "codemirror_mode": {
    "name": "ipython",
    "version": 3
   },
   "file_extension": ".py",
   "mimetype": "text/x-python",
   "name": "python",
   "nbconvert_exporter": "python",
   "pygments_lexer": "ipython3",
   "version": "3.11.8"
  }
 },
 "nbformat": 4,
 "nbformat_minor": 5
}
