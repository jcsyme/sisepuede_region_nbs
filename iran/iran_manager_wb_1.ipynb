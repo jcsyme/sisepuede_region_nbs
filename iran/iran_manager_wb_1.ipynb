{
 "cells": [
  {
   "cell_type": "code",
   "execution_count": 11,
   "id": "2a29eb0a-00ee-494d-9b3d-25da412bf1d5",
   "metadata": {},
   "outputs": [],
   "source": [
    "import copy\n",
    "import datetime as dt\n",
    "import importlib # needed so that we can reload packages\n",
    "import matplotlib.pyplot as plt\n",
    "import os, os.path\n",
    "import numpy as np\n",
    "import pandas as pd\n",
    "import pathlib\n",
    "import sys\n",
    "import time\n",
    "from typing import Union\n",
    "import warnings\n",
    "warnings.filterwarnings(\"ignore\")\n",
    "\n",
    "\n",
    "##  IMPORT SISEPUEDE EXAMPLES AND TRANSFORMERS\n",
    "\n",
    "from sisepuede.manager.sisepuede_examples import SISEPUEDEExamples\n",
    "from sisepuede.manager.sisepuede_file_structure import SISEPUEDEFileStructure\n",
    "import sisepuede.core.support_classes as sc\n",
    "import sisepuede.transformers as trf\n",
    "import sisepuede.utilities._plotting as spu\n",
    "import sisepuede.utilities._toolbox as sf\n"
   ]
  },
  {
   "cell_type": "code",
   "execution_count": 12,
   "id": "62c6c558-ba2c-482b-8743-7c46bfb64924",
   "metadata": {},
   "outputs": [],
   "source": [
    "##  SETUP DIRECTORIES\n",
    "\n",
    "dir_cur = pathlib.Path(os.getcwd())\n",
    "dir_data = dir_cur.joinpath(\"data\")\n",
    "dir_transformations = dir_cur.joinpath(\"transformations\")\n",
    "\n",
    "\n",
    "##  SETUP FILES\n",
    "\n",
    "fp_data_base = dir_data.joinpath(\"sisepuede_inputs_iran.csv\")\n",
    "\n",
    "\n",
    "##  SETUP SOME SISEPUEDE STUFF\n",
    "\n",
    "file_struct = SISEPUEDEFileStructure()\n",
    "\n",
    "matt = file_struct.model_attributes\n",
    "regions = sc.Regions(matt)\n",
    "time_periods = sc.TimePeriods(matt)"
   ]
  },
  {
   "cell_type": "code",
   "execution_count": 13,
   "id": "b8a1e26f-7946-4f4f-a3b1-ff398c9fe211",
   "metadata": {},
   "outputs": [],
   "source": [
    "##  BUILD BASE INPUTS\n",
    "\n",
    "df_inputs_raw = pd.read_csv(fp_data_base)\n",
    "\n",
    "# pull example data to fill in gaps\n",
    "examples = SISEPUEDEExamples()\n",
    "df_inputs_example = examples.input_data_frame"
   ]
  },
  {
   "cell_type": "markdown",
   "id": "fb05e219-c587-44f9-8332-61ab03fca54a",
   "metadata": {},
   "source": [
    "###   Review fields that are different"
   ]
  },
  {
   "cell_type": "code",
   "execution_count": 14,
   "id": "ae32c39b-9a6f-4ec3-8317-6e356ba941fa",
   "metadata": {},
   "outputs": [
    {
     "data": {
      "text/plain": [
       "['strategy_id']"
      ]
     },
     "execution_count": 14,
     "metadata": {},
     "output_type": "execute_result"
    }
   ],
   "source": [
    "[\n",
    "    x for x in df_inputs_example.columns if x not in df_inputs_raw.columns\n",
    "]"
   ]
  },
  {
   "cell_type": "code",
   "execution_count": 15,
   "id": "5ae88367-74ef-4401-9c79-790f21ebff00",
   "metadata": {},
   "outputs": [],
   "source": [
    "##  SOME MANUAL FIXES FOR THE MOMENT\n",
    "\n",
    "df_inputs_example[\"exports_enfu_pj_fuel_ammonia\"] = 0\n"
   ]
  },
  {
   "cell_type": "markdown",
   "id": "f679ad3d-44dc-4afc-ba9c-d98fa9b79797",
   "metadata": {},
   "source": [
    "###   Build the file here\n",
    "\n",
    "- Drop unecessary fields\n",
    "- Use systematic keys/index fields\n",
    "- add region name"
   ]
  },
  {
   "cell_type": "code",
   "execution_count": 16,
   "id": "6b0164f5-f2ca-467b-b6ae-aa64ca03fc07",
   "metadata": {},
   "outputs": [],
   "source": [
    "fields_drop_example = [\n",
    "    x for x in [regions.key, matt.dim_strategy_id]\n",
    "    if x in df_inputs_example\n",
    "]\n",
    "\n",
    "fields_drop_raw = [\n",
    "    x for x in [\"iso_code3\", \"Year\"]\n",
    "    if x in df_inputs_example\n",
    "]\n",
    "\n",
    "df_inputs = sf.match_df_to_target_df(\n",
    "    df_inputs_example\n",
    "    .drop(\n",
    "        columns = fields_drop_example,\n",
    "    ),\n",
    "    df_inputs_raw\n",
    "    .drop(\n",
    "        columns = fields_drop_raw,\n",
    "    ),\n",
    "    [time_periods.field_time_period],\n",
    "    overwrite_only = False,\n",
    ")\n",
    "\n",
    "df_inputs[regions.key] = \"iran\""
   ]
  },
  {
   "cell_type": "markdown",
   "id": "91491c34-78de-4bf9-bed3-3d69613bace7",
   "metadata": {},
   "source": [
    "#  Let's try building transformations using this\n"
   ]
  },
  {
   "cell_type": "code",
   "execution_count": 17,
   "id": "8f21339f-7e93-4123-aa07-8a12f0316756",
   "metadata": {},
   "outputs": [],
   "source": [
    "transformers = trf.transformers.Transformers(\n",
    "    {},\n",
    "    df_input = df_inputs,\n",
    ")\n"
   ]
  },
  {
   "cell_type": "markdown",
   "id": "d93521f1-0fa0-4f09-9b6e-def5662df3d8",
   "metadata": {},
   "source": [
    "##  Instantiate some transformations CAREFUL NOT TO OVERWRITE EXISTING TRANSFORMATIONS!!"
   ]
  },
  {
   "cell_type": "code",
   "execution_count": 18,
   "id": "e85aa9b2-412c-44f7-b75f-3bc486202843",
   "metadata": {},
   "outputs": [],
   "source": [
    "# set an ouput path and instantiate \n",
    "if not dir_transformations.exists():\n",
    "    trf.instantiate_default_strategy_directory(\n",
    "        transformers,\n",
    "        dir_transformations,\n",
    "    )\n"
   ]
  },
  {
   "cell_type": "markdown",
   "id": "14522780-2f45-4402-8889-365f1d319303",
   "metadata": {},
   "source": [
    "##  --HERE, CUSTOMIZE YOUR TRANSFORMATIONS AND STRATEGIES--\n",
    "- go to `dir_transformers` and edit config files and `strategy_definitions.csv`\n",
    "- then, go to next cell"
   ]
  },
  {
   "cell_type": "code",
   "execution_count": 19,
   "id": "57bd1a2f-4f3e-4c78-b9a6-b00446ee44ad",
   "metadata": {},
   "outputs": [],
   "source": [
    "# then, you can load this back in after modifying (play around with it)\n",
    "transformations = trf.Transformations(\n",
    "    dir_transformations,\n",
    "    transformers = transformers,\n",
    ")\n",
    "tab = transformations.attribute_transformation.table\n",
    "\n",
    "\n"
   ]
  },
  {
   "cell_type": "code",
   "execution_count": 20,
   "id": "d20cd07a-feb1-4b4c-a755-43d0f639e3c7",
   "metadata": {},
   "outputs": [
    {
     "name": "stdout",
     "output_type": "stream",
     "text": [
      "Strategies defined at /home/fabian_fuentes/repos/sisepuede_region_nbs/iran/transformations initialized in 3.0 seconds\n"
     ]
    }
   ],
   "source": [
    "#  build the strategies -- will export to path\n",
    "t0 = time.time()\n",
    "strategies = trf.Strategies(\n",
    "    transformations,\n",
    "    export_path = \"transformations\",\n",
    "    prebuild = True,\n",
    ")\n",
    "\n",
    "t_elapse = sf.get_time_elapsed(t0)\n",
    "print(f\"Strategies defined at {strategies.transformations.dir_init} initialized in {t_elapse} seconds\")\n",
    "\n"
   ]
  },
  {
   "cell_type": "code",
   "execution_count": 21,
   "id": "937acf95-47c5-42d2-bec4-1960ca8bb3b1",
   "metadata": {},
   "outputs": [
    {
     "data": {
      "text/html": [
       "<div>\n",
       "<style scoped>\n",
       "    .dataframe tbody tr th:only-of-type {\n",
       "        vertical-align: middle;\n",
       "    }\n",
       "\n",
       "    .dataframe tbody tr th {\n",
       "        vertical-align: top;\n",
       "    }\n",
       "\n",
       "    .dataframe thead th {\n",
       "        text-align: right;\n",
       "    }\n",
       "</style>\n",
       "<table border=\"1\" class=\"dataframe\">\n",
       "  <thead>\n",
       "    <tr style=\"text-align: right;\">\n",
       "      <th></th>\n",
       "      <th>strategy_id</th>\n",
       "      <th>strategy_code</th>\n",
       "      <th>strategy</th>\n",
       "      <th>description</th>\n",
       "      <th>transformation_specification</th>\n",
       "      <th>baseline_strategy_id</th>\n",
       "    </tr>\n",
       "  </thead>\n",
       "  <tbody>\n",
       "    <tr>\n",
       "      <th>0</th>\n",
       "      <td>0</td>\n",
       "      <td>BASE</td>\n",
       "      <td>Strategy TX:BASE</td>\n",
       "      <td>NaN</td>\n",
       "      <td>TX:BASE</td>\n",
       "      <td>1</td>\n",
       "    </tr>\n",
       "    <tr>\n",
       "      <th>1</th>\n",
       "      <td>1000</td>\n",
       "      <td>AGRC:DEC_CH4_RICE</td>\n",
       "      <td>Singleton - Default Value - AGRC: Improve rice...</td>\n",
       "      <td>NaN</td>\n",
       "      <td>TX:AGRC:DEC_CH4_RICE</td>\n",
       "      <td>0</td>\n",
       "    </tr>\n",
       "    <tr>\n",
       "      <th>2</th>\n",
       "      <td>1001</td>\n",
       "      <td>AGRC:DEC_EXPORTS</td>\n",
       "      <td>Singleton - Default Value - AGRC: Decrease Exp...</td>\n",
       "      <td>NaN</td>\n",
       "      <td>TX:AGRC:DEC_EXPORTS</td>\n",
       "      <td>0</td>\n",
       "    </tr>\n",
       "    <tr>\n",
       "      <th>3</th>\n",
       "      <td>1002</td>\n",
       "      <td>AGRC:DEC_LOSSES_SUPPLY_CHAIN</td>\n",
       "      <td>Singleton - Default Value - AGRC: Reduce suppl...</td>\n",
       "      <td>NaN</td>\n",
       "      <td>TX:AGRC:DEC_LOSSES_SUPPLY_CHAIN</td>\n",
       "      <td>0</td>\n",
       "    </tr>\n",
       "    <tr>\n",
       "      <th>4</th>\n",
       "      <td>1003</td>\n",
       "      <td>AGRC:INC_CONSERVATION_AGRICULTURE</td>\n",
       "      <td>Singleton - Default Value - AGRC: Expand conse...</td>\n",
       "      <td>NaN</td>\n",
       "      <td>TX:AGRC:INC_CONSERVATION_AGRICULTURE</td>\n",
       "      <td>0</td>\n",
       "    </tr>\n",
       "    <tr>\n",
       "      <th>...</th>\n",
       "      <td>...</td>\n",
       "      <td>...</td>\n",
       "      <td>...</td>\n",
       "      <td>...</td>\n",
       "      <td>...</td>\n",
       "      <td>...</td>\n",
       "    </tr>\n",
       "    <tr>\n",
       "      <th>67</th>\n",
       "      <td>6001</td>\n",
       "      <td>PFLO:INC_IND_CCS</td>\n",
       "      <td>Singleton - Default Value - PFLO: Industrial c...</td>\n",
       "      <td>NaN</td>\n",
       "      <td>TX:PFLO:INC_IND_CCS</td>\n",
       "      <td>0</td>\n",
       "    </tr>\n",
       "    <tr>\n",
       "      <th>68</th>\n",
       "      <td>6002</td>\n",
       "      <td>PFLO:ALL</td>\n",
       "      <td>All Actions</td>\n",
       "      <td>All actions (unique by transformer)</td>\n",
       "      <td>TX:AGRC:DEC_CH4_RICE|TX:AGRC:DEC_EXPORTS|TX:AG...</td>\n",
       "      <td>0</td>\n",
       "    </tr>\n",
       "    <tr>\n",
       "      <th>69</th>\n",
       "      <td>6003</td>\n",
       "      <td>PFLO:CONSTRAINED</td>\n",
       "      <td>Constrained Climate Action</td>\n",
       "      <td>NaN</td>\n",
       "      <td>TX:AGRC:DEC_CH4_RICE_LOW|TX:AGRC:DEC_LOSSES_SU...</td>\n",
       "      <td>0</td>\n",
       "    </tr>\n",
       "    <tr>\n",
       "      <th>70</th>\n",
       "      <td>6004</td>\n",
       "      <td>PFLO:TECHNOLOGICAL_ADOPTION</td>\n",
       "      <td>Technology Adoption Scenario</td>\n",
       "      <td>NaN</td>\n",
       "      <td>TX:AGRC:DEC_CH4_RICE_LOW|TX:AGRC:DEC_LOSSES_SU...</td>\n",
       "      <td>0</td>\n",
       "    </tr>\n",
       "    <tr>\n",
       "      <th>71</th>\n",
       "      <td>6005</td>\n",
       "      <td>PFLO:UNCONSTRAINED</td>\n",
       "      <td>Unconstrained Climate Action</td>\n",
       "      <td>NaN</td>\n",
       "      <td>TX:AGRC:DEC_CH4_RICE|TX:AGRC:DEC_EXPORTS|TX:AG...</td>\n",
       "      <td>0</td>\n",
       "    </tr>\n",
       "  </tbody>\n",
       "</table>\n",
       "<p>72 rows × 6 columns</p>\n",
       "</div>"
      ],
      "text/plain": [
       "    strategy_id                      strategy_code  \\\n",
       "0             0                               BASE   \n",
       "1          1000                  AGRC:DEC_CH4_RICE   \n",
       "2          1001                   AGRC:DEC_EXPORTS   \n",
       "3          1002       AGRC:DEC_LOSSES_SUPPLY_CHAIN   \n",
       "4          1003  AGRC:INC_CONSERVATION_AGRICULTURE   \n",
       "..          ...                                ...   \n",
       "67         6001                   PFLO:INC_IND_CCS   \n",
       "68         6002                           PFLO:ALL   \n",
       "69         6003                   PFLO:CONSTRAINED   \n",
       "70         6004        PFLO:TECHNOLOGICAL_ADOPTION   \n",
       "71         6005                 PFLO:UNCONSTRAINED   \n",
       "\n",
       "                                             strategy  \\\n",
       "0                                    Strategy TX:BASE   \n",
       "1   Singleton - Default Value - AGRC: Improve rice...   \n",
       "2   Singleton - Default Value - AGRC: Decrease Exp...   \n",
       "3   Singleton - Default Value - AGRC: Reduce suppl...   \n",
       "4   Singleton - Default Value - AGRC: Expand conse...   \n",
       "..                                                ...   \n",
       "67  Singleton - Default Value - PFLO: Industrial c...   \n",
       "68                                        All Actions   \n",
       "69                         Constrained Climate Action   \n",
       "70                       Technology Adoption Scenario   \n",
       "71                       Unconstrained Climate Action   \n",
       "\n",
       "                            description  \\\n",
       "0                                   NaN   \n",
       "1                                   NaN   \n",
       "2                                   NaN   \n",
       "3                                   NaN   \n",
       "4                                   NaN   \n",
       "..                                  ...   \n",
       "67                                  NaN   \n",
       "68  All actions (unique by transformer)   \n",
       "69                                  NaN   \n",
       "70                                  NaN   \n",
       "71                                  NaN   \n",
       "\n",
       "                         transformation_specification  baseline_strategy_id  \n",
       "0                                             TX:BASE                     1  \n",
       "1                                TX:AGRC:DEC_CH4_RICE                     0  \n",
       "2                                 TX:AGRC:DEC_EXPORTS                     0  \n",
       "3                     TX:AGRC:DEC_LOSSES_SUPPLY_CHAIN                     0  \n",
       "4                TX:AGRC:INC_CONSERVATION_AGRICULTURE                     0  \n",
       "..                                                ...                   ...  \n",
       "67                                TX:PFLO:INC_IND_CCS                     0  \n",
       "68  TX:AGRC:DEC_CH4_RICE|TX:AGRC:DEC_EXPORTS|TX:AG...                     0  \n",
       "69  TX:AGRC:DEC_CH4_RICE_LOW|TX:AGRC:DEC_LOSSES_SU...                     0  \n",
       "70  TX:AGRC:DEC_CH4_RICE_LOW|TX:AGRC:DEC_LOSSES_SU...                     0  \n",
       "71  TX:AGRC:DEC_CH4_RICE|TX:AGRC:DEC_EXPORTS|TX:AG...                     0  \n",
       "\n",
       "[72 rows x 6 columns]"
      ]
     },
     "execution_count": 21,
     "metadata": {},
     "output_type": "execute_result"
    }
   ],
   "source": [
    "strategies.attribute_table"
   ]
  },
  {
   "cell_type": "markdown",
   "id": "960373ce-9c92-4998-87e1-79563b4b7800",
   "metadata": {},
   "source": [
    "##  Build our templates\n",
    "- let's use the default variable groupings for LHS"
   ]
  },
  {
   "cell_type": "code",
   "execution_count": 23,
   "id": "fb46000c-f47a-4fcd-ae46-44bf7fab2e99",
   "metadata": {},
   "outputs": [
    {
     "data": {
      "text/plain": [
       "0"
      ]
     },
     "execution_count": 23,
     "metadata": {},
     "output_type": "execute_result"
    }
   ],
   "source": [
    "df_vargroups = examples(\"variable_trajectory_group_specification\")\n",
    "\n",
    "strategies.build_strategies_to_templates(\n",
    "    df_trajgroup = df_vargroups, \n",
    "    include_simplex_group_as_trajgroup = True,\n",
    "    strategies = [0, 6003, 6004, 6005],\n",
    ")\n",
    "\n"
   ]
  },
  {
   "cell_type": "code",
   "execution_count": null,
   "id": "7d6e4bd4-0a95-44ed-944f-4ca7cf229e79",
   "metadata": {},
   "outputs": [],
   "source": [
    "#s0 = strategies.get_strategy(0)\n",
    "#s0()[\"nemomod_entc_frac_min_share_production_pp_biogas\"]"
   ]
  },
  {
   "cell_type": "markdown",
   "id": "dec04da7-dd23-437c-bcc2-fd63541c44f5",
   "metadata": {},
   "source": [
    "# Finally, load SISEPUEDE so that we can run it"
   ]
  },
  {
   "cell_type": "code",
   "execution_count": 24,
   "id": "749d1cae-41a3-4344-b0ff-db9d8d41a619",
   "metadata": {},
   "outputs": [
    {
     "name": "stderr",
     "output_type": "stream",
     "text": [
      "2024-11-07 10:29:33,366 - INFO - Successfully initialized SISEPUEDEFileStructure.\n",
      "2024-11-07 10:29:33,368 - WARNING - Missing key dict_dimensional_keys: key time_series not found. Tables that rely on the time_series will not have index checking.\n",
      "2024-11-07 10:29:33,368 - INFO - \tSetting export engine to 'csv'.\n",
      "2024-11-07 10:29:33,369 - WARNING - No index fields defined. Index field values will not be checked when writing to tables.\n",
      "2024-11-07 10:29:33,369 - INFO - Successfully instantiated table ANALYSIS_METADATA\n",
      "2024-11-07 10:29:33,370 - WARNING - No index fields found in ATTRIBUTE_DESIGN. Initializing index fields.\n",
      "2024-11-07 10:29:33,370 - INFO - Successfully instantiated table ATTRIBUTE_DESIGN\n",
      "2024-11-07 10:29:33,371 - WARNING - No index fields found in ATTRIBUTE_LHC_SAMPLES_EXOGENOUS_UNCERTAINTIES. Initializing index fields.\n",
      "2024-11-07 10:29:33,371 - INFO - Successfully instantiated table ATTRIBUTE_LHC_SAMPLES_EXOGENOUS_UNCERTAINTIES\n",
      "2024-11-07 10:29:33,371 - WARNING - No index fields found in ATTRIBUTE_LHC_SAMPLES_LEVER_EFFECTS. Initializing index fields.\n",
      "2024-11-07 10:29:33,372 - INFO - Successfully instantiated table ATTRIBUTE_LHC_SAMPLES_LEVER_EFFECTS\n",
      "2024-11-07 10:29:33,372 - WARNING - No index fields found in ATTRIBUTE_PRIMARY. Initializing index fields.\n",
      "2024-11-07 10:29:33,373 - INFO - Successfully instantiated table ATTRIBUTE_PRIMARY\n",
      "2024-11-07 10:29:33,373 - WARNING - No index fields found in ATTRIBUTE_STRATEGY. Initializing index fields.\n",
      "2024-11-07 10:29:33,374 - INFO - Successfully instantiated table ATTRIBUTE_STRATEGY\n",
      "2024-11-07 10:29:33,374 - WARNING - No index fields found in MODEL_BASE_INPUT_DATABASE. Initializing index fields.\n",
      "2024-11-07 10:29:33,375 - INFO - Successfully instantiated table MODEL_BASE_INPUT_DATABASE\n",
      "2024-11-07 10:29:33,375 - WARNING - No index fields found in MODEL_INPUT. Initializing index fields.\n",
      "2024-11-07 10:29:33,375 - INFO - Successfully instantiated table MODEL_INPUT\n",
      "2024-11-07 10:29:33,376 - WARNING - No index fields found in MODEL_OUTPUT. Initializing index fields.\n",
      "2024-11-07 10:29:33,376 - INFO - Successfully instantiated table MODEL_OUTPUT\n",
      "2024-11-07 10:29:33,376 - INFO - SISEPUEDEOutputDatabase successfully initialized IterativeDatabase.\n",
      "2024-11-07 10:29:33,376 - INFO - Successfully initialized database with:\n",
      "\ttype:\tcsv\n",
      "\tanalysis id:\tsisepuede_run_2024-11-07T10:29:32.900079\n",
      "\tfp_base_output:\t/home/fabian_fuentes/anaconda3/envs/ssp/lib/python3.11/site-packages/sisepuede/out/sisepuede_run_2024-11-07T10;29;32.900079/sisepuede_run_2024-11-07T10;29;32.900079_output_database\n",
      "2024-11-07 10:29:33,377 - INFO - Running SISEPUEDE under template data mode 'calibrated'.\n",
      "2024-11-07 10:29:33,378 - INFO - Initializing BaseInputDatabase\n",
      "2024-11-07 10:29:33,933 - INFO - Initializing FutureTrajectories\n",
      "2024-11-07 10:29:36,923 - INFO - Instantiating 1502 sampling units.\n",
      "2024-11-07 10:29:36,941 - INFO - Iteration 0 complete.\n",
      "2024-11-07 10:29:41,104 - INFO - Iteration 250 complete.\n",
      "2024-11-07 10:29:43,821 - INFO - Iteration 500 complete.\n",
      "2024-11-07 10:29:46,626 - INFO - Iteration 750 complete.\n",
      "2024-11-07 10:29:51,048 - INFO - Iteration 1000 complete.\n",
      "2024-11-07 10:29:54,100 - INFO - Iteration 1250 complete.\n",
      "2024-11-07 10:29:56,888 - INFO - Iteration 1500 complete.\n",
      "2024-11-07 10:29:56,900 - INFO - \t1502 sampling units complete in 19.98 seconds.\n",
      "2024-11-07 10:29:56,911 - INFO - \tFutureTrajectories for 'iran' complete.\n",
      "2024-11-07 10:29:56,912 - INFO - Initializing LHSDesign\n",
      "2024-11-07 10:29:56,913 - INFO - LHSDesign.fields_factors_l reset successful.\n",
      "2024-11-07 10:29:56,913 - INFO - LHSDesign.fields_factors_x reset successful.\n",
      "2024-11-07 10:29:56,925 - INFO - \tLHSDesign for region 'iran' complete.\n",
      "2024-11-07 10:29:56,926 - INFO - Generating primary keys (values of primary_id)...\n",
      "2024-11-07 10:29:56,927 - INFO - Successfully initialized SISEPUEDEExperimentalManager.\n",
      "2024-11-07 10:29:56,927 - INFO - Successfully initialized NemoMod temporary database path as /home/fabian_fuentes/anaconda3/envs/ssp/lib/python3.11/site-packages/sisepuede/tmp/nemomod_intermediate_database.sqlite.\n",
      "2024-11-07 10:29:56,928 - INFO - Set Julia directory for modules and environment to '/home/fabian_fuentes/anaconda3/envs/ssp/lib/python3.11/site-packages/sisepuede/julia'.\n",
      "2024-11-07 10:29:56,994 - INFO - Successfully read NemoMod input table data from /home/fabian_fuentes/anaconda3/envs/ssp/lib/python3.11/site-packages/sisepuede/ref/nemo_mod/SpecifiedDemandProfile.csv\n",
      "2024-11-07 10:29:56,998 - INFO - Successfully read NemoMod input table data from /home/fabian_fuentes/anaconda3/envs/ssp/lib/python3.11/site-packages/sisepuede/ref/nemo_mod/AvailabilityFactor.csv\n",
      "2024-11-07 10:29:57,069 - INFO - Importing Julia...\n"
     ]
    },
    {
     "name": "stdout",
     "output_type": "stream",
     "text": [
      "[juliapkg] Found dependencies: /home/fabian_fuentes/anaconda3/envs/ssp/lib/python3.11/site-packages/juliacall/juliapkg.json\n",
      "[juliapkg] Found dependencies: /home/fabian_fuentes/anaconda3/envs/ssp/lib/python3.11/site-packages/sisepuede/julia/pyjuliapkg/juliapkg.json\n",
      "[juliapkg] Found dependencies: /home/fabian_fuentes/anaconda3/envs/ssp/lib/python3.11/site-packages/juliapkg/juliapkg.json\n",
      "[juliapkg] Locating Julia ^1.10.3\n",
      "[juliapkg] Querying Julia versions from https://julialang-s3.julialang.org/bin/versions.json\n",
      "[juliapkg] WARNING: About to install Julia 1.11.1 to /home/fabian_fuentes/anaconda3/envs/ssp/lib/python3.11/site-packages/sisepuede/julia/pyjuliapkg/install.\n",
      "[juliapkg]   If you use juliapkg in more than one environment, you are likely to\n",
      "[juliapkg]   have Julia installed in multiple locations. It is recommended to\n",
      "[juliapkg]   install JuliaUp (https://github.com/JuliaLang/juliaup) or Julia\n",
      "[juliapkg]   (https://julialang.org/downloads) yourself.\n",
      "[juliapkg] Downloading Julia from https://julialang-s3.julialang.org/bin/linux/x64/1.11/julia-1.11.1-linux-x86_64.tar.gz\n",
      "             downloaded 55.5 MB of 242.8 MB\n",
      "             downloaded 115.2 MB of 242.8 MB\n",
      "             downloaded 177.4 MB of 242.8 MB\n",
      "             downloaded 236.4 MB of 242.8 MB\n",
      "             download complete\n",
      "[juliapkg] Verifying download\n",
      "[juliapkg] Installing Julia 1.11.1 to /home/fabian_fuentes/anaconda3/envs/ssp/lib/python3.11/site-packages/sisepuede/julia/pyjuliapkg/install\n",
      "[juliapkg] Using Julia 1.11.1 at /home/fabian_fuentes/anaconda3/envs/ssp/lib/python3.11/site-packages/sisepuede/julia/pyjuliapkg/install/bin/julia\n",
      "[juliapkg] Using Julia project at /home/fabian_fuentes/anaconda3/envs/ssp/lib/python3.11/site-packages/sisepuede/julia\n",
      "[juliapkg] Installing packages:\n",
      "           julia> import Pkg\n",
      "           julia> Pkg.Registry.update()\n",
      "           julia> Pkg.add([Pkg.PackageSpec(name=\"PythonCall\", uuid=\"6099a3de-0909-46bc-b1f4-468b9a2dfc0d\"), Pkg.PackageSpec(name=\"Cbc\", uuid=\"9961bab8-2fa3-5c5a-9d89-47fab24efd76\"), Pkg.PackageSpec(name=\"Clp\", uuid=\"e2554f3b-3117-50c0-817c-e040a3ddf72d\"), Pkg.PackageSpec(name=\"DataFrames\", uuid=\"a93c6f00-e57d-5684-b7b6-d8193f3e46c0\"), Pkg.PackageSpec(name=\"GLPK\", uuid=\"60bf3e95-4087-53dc-ae20-288a0d20c6a6\"), Pkg.PackageSpec(name=\"HiGHS\", uuid=\"87dc4568-4c63-4d18-b0c0-bb2238e4078b\"), Pkg.PackageSpec(name=\"Ipopt\", uuid=\"b6b21f68-93f8-5de0-b562-5493be1d77c9\"), Pkg.PackageSpec(name=\"JuMP\", uuid=\"4076af6c-e467-56ae-b986-b466b2749572\"), Pkg.PackageSpec(name=\"NemoMod\", uuid=\"a3c327a0-d2f0-11e8-37fd-d12fd35c3c72\", url=raw\"https://github.com/sei-international/NemoMod.jl.git\", rev=raw\"61e63e0\"), Pkg.PackageSpec(name=\"SQLite\", uuid=\"0aa819cd-b072-5ff4-a722-6bc24af294d9\")])\n",
      "           julia> Pkg.resolve()\n",
      "           julia> Pkg.precompile()\n"
     ]
    },
    {
     "name": "stderr",
     "output_type": "stream",
     "text": [
      "    Updating registry at `~/.julia/registries/General.toml`\n",
      "   Resolving package versions...\n",
      "   Installed Hwloc_jll ─ v2.11.2+1\n",
      "   Installed HiGHS ───── v1.12.0\n",
      "    Updating `~/anaconda3/envs/ssp/lib/python3.11/site-packages/sisepuede/julia/Project.toml`\n",
      "  [9961bab8] + Cbc v1.2.0\n",
      "  [e2554f3b] + Clp v1.1.0\n",
      "  [a93c6f00] + DataFrames v1.7.0\n",
      "  [60bf3e95] + GLPK v1.2.1\n",
      "  [87dc4568] + HiGHS v1.12.0\n",
      "  [b6b21f68] + Ipopt v1.6.7\n",
      "  [4076af6c] + JuMP v1.23.3\n",
      "  [a3c327a0] + NemoMod v2.0.0 `https://github.com/sei-international/NemoMod.jl.git#61e63e0`\n",
      "⌅ [6099a3de] + PythonCall v0.9.22\n",
      "  [0aa819cd] + SQLite v1.6.1\n",
      "    Updating `~/anaconda3/envs/ssp/lib/python3.11/site-packages/sisepuede/julia/Manifest.toml`\n",
      "  [6e4b80f9] + BenchmarkTools v1.5.0\n",
      "  [9961bab8] + Cbc v1.2.0\n",
      "  [e2554f3b] + Clp v1.1.0\n",
      "  [523fee87] + CodecBzip2 v0.8.4\n",
      "  [944b1d66] + CodecZlib v0.7.6\n",
      "  [bbf7d656] + CommonSubexpressions v0.3.1\n",
      "  [34da2185] + Compat v4.16.0\n",
      "  [992eb4ea] + CondaPkg v0.2.23\n",
      "  [88353bc9] + ConfParser v0.1.2\n",
      "  [a8cc5b0e] + Crayons v4.1.1\n",
      "  [a10d1c49] + DBInterface v2.6.1\n",
      "  [9a962f9c] + DataAPI v1.16.0\n",
      "  [a93c6f00] + DataFrames v1.7.0\n",
      "  [864edb3b] + DataStructures v0.18.20\n",
      "  [e2d170a0] + DataValueInterfaces v1.0.0\n",
      "  [163ba53b] + DiffResults v1.1.0\n",
      "  [b552c78f] + DiffRules v1.15.1\n",
      "  [ffbed154] + DocStringExtensions v0.9.3\n",
      "  [f6369f11] + ForwardDiff v0.10.37\n",
      "  [60bf3e95] + GLPK v1.2.1\n",
      "  [87dc4568] + HiGHS v1.12.0\n",
      "  [842dd82b] + InlineStrings v1.4.2\n",
      "  [41ab1584] + InvertedIndices v1.3.0\n",
      "  [b6b21f68] + Ipopt v1.6.7\n",
      "  [92d709cd] + IrrationalConstants v0.2.2\n",
      "  [82899510] + IteratorInterfaceExtensions v1.0.0\n",
      "  [692b3bcd] + JLLWrappers v1.6.1\n",
      "  [682c06a0] + JSON v0.21.4\n",
      "  [0f8b85d8] + JSON3 v1.14.1\n",
      "  [4076af6c] + JuMP v1.23.3\n",
      "  [b964fa9f] + LaTeXStrings v1.4.0\n",
      "  [2ab3a3ac] + LogExpFunctions v0.3.28\n",
      "  [1914dd2f] + MacroTools v0.5.13\n",
      "  [b8f27783] + MathOptInterface v1.34.0\n",
      "  [0b3b1443] + MicroMamba v0.1.14\n",
      "  [e1d29d7a] + Missings v1.2.0\n",
      "  [d8a4904e] + MutableArithmetics v1.5.2\n",
      "  [77ba4419] + NaNMath v1.0.2\n",
      "  [a3c327a0] + NemoMod v2.0.0 `https://github.com/sei-international/NemoMod.jl.git#61e63e0`\n",
      "  [bac558e1] + OrderedCollections v1.6.3\n",
      "  [69de0a69] + Parsers v2.8.1\n",
      "  [fa939f87] + Pidfile v1.3.0\n",
      "  [2dfb63ee] + PooledArrays v1.4.3\n",
      "  [aea7be01] + PrecompileTools v1.2.1\n",
      "  [21216c6a] + Preferences v1.4.3\n",
      "  [08abe8d2] + PrettyTables v2.4.0\n",
      "⌅ [6099a3de] + PythonCall v0.9.22\n",
      "  [189a3867] + Reexport v1.2.2\n",
      "  [ae029012] + Requires v1.3.0\n",
      "  [0aa819cd] + SQLite v1.6.1\n",
      "  [6c6a2e73] + Scratch v1.2.1\n",
      "  [91c51154] + SentinelArrays v1.4.7\n",
      "  [a2af1166] + SortingAlgorithms v1.2.1\n",
      "  [276daf66] + SpecialFunctions v2.4.0\n",
      "  [1e83bf80] + StaticArraysCore v1.4.3\n",
      "  [10745b16] + Statistics v1.11.1\n",
      "  [892a3eda] + StringManipulation v0.4.0\n",
      "  [856f2bd8] + StructTypes v1.11.0\n",
      "  [3783bdb8] + TableTraits v1.0.1\n",
      "  [bd369af6] + Tables v1.12.0\n",
      "  [3bb67fe8] + TranscodingStreams v0.11.3\n",
      "  [e17b2a0c] + UnsafePointers v1.0.0\n",
      "  [ea10d353] + WeakRefStrings v1.4.2\n",
      "  [ae81ac8f] + ASL_jll v0.1.3+0\n",
      "  [6e34b625] + Bzip2_jll v1.0.8+2\n",
      "  [38041ee0] + Cbc_jll v200.1000.800+0\n",
      "  [3830e938] + Cgl_jll v0.6000.600+0\n",
      "⌅ [06985876] + Clp_jll v100.1700.700+1\n",
      "⌅ [be027038] + CoinUtils_jll v200.1100.600+0\n",
      "  [e8aa6df9] + GLPK_jll v5.0.1+1\n",
      "  [8fd58aa0] + HiGHS_jll v1.8.0+0\n",
      "  [e33a78d0] + Hwloc_jll v2.11.2+1\n",
      "  [9cc047cb] + Ipopt_jll v300.1400.1600+0\n",
      "  [d00139f3] + METIS_jll v5.1.2+0\n",
      "⌅ [d7ed1dd3] + MUMPS_seq_jll v500.700.300+0\n",
      "  [656ef2d0] + OpenBLAS32_jll v0.3.28+3\n",
      "  [efe28fd5] + OpenSpecFun_jll v0.5.5+0\n",
      "⌅ [7da25872] + Osi_jll v0.10800.700+0\n",
      "  [319450e9] + SPRAL_jll v2024.5.8+0\n",
      "  [76ed43ae] + SQLite_jll v3.45.3+0\n",
      "  [f8abcde7] + micromamba_jll v1.5.8+0\n",
      "  [0dad84c5] + ArgTools v1.1.2\n",
      "  [56f22d72] + Artifacts v1.11.0\n",
      "  [2a0f44e3] + Base64 v1.11.0\n",
      "  [ade2ca70] + Dates v1.11.0\n",
      "  [f43a241f] + Downloads v1.6.0\n",
      "  [7b1f6079] + FileWatching v1.11.0\n",
      "  [9fa8497b] + Future v1.11.0\n",
      "  [b77e0a4c] + InteractiveUtils v1.11.0\n",
      "  [4af54fe1] + LazyArtifacts v1.11.0\n",
      "  [b27032c2] + LibCURL v0.6.4\n",
      "  [76f85450] + LibGit2 v1.11.0\n",
      "  [8f399da3] + Libdl v1.11.0\n",
      "  [37e2e46d] + LinearAlgebra v1.11.0\n",
      "  [56ddb016] + Logging v1.11.0\n",
      "  [d6f4376e] + Markdown v1.11.0\n",
      "  [a63ad114] + Mmap v1.11.0\n",
      "  [ca575930] + NetworkOptions v1.2.0\n",
      "  [44cfe95a] + Pkg v1.11.0\n",
      "  [de0858da] + Printf v1.11.0\n",
      "  [9abbd945] + Profile v1.11.0\n",
      "  [3fa0cd96] + REPL v1.11.0\n",
      "  [9a3f8284] + Random v1.11.0\n",
      "  [ea8e919c] + SHA v0.7.0\n",
      "  [9e88b42a] + Serialization v1.11.0\n",
      "  [6462fe0b] + Sockets v1.11.0\n",
      "  [2f01184e] + SparseArrays v1.11.0\n",
      "  [f489334b] + StyledStrings v1.11.0\n",
      "  [fa267f1f] + TOML v1.0.3\n",
      "  [a4e569a6] + Tar v1.10.0\n",
      "  [8dfed614] + Test v1.11.0\n",
      "  [cf7118a7] + UUIDs v1.11.0\n",
      "  [4ec0a83e] + Unicode v1.11.0\n",
      "  [e66e0078] + CompilerSupportLibraries_jll v1.1.1+0\n",
      "  [781609d7] + GMP_jll v6.3.0+0\n",
      "  [deac9b47] + LibCURL_jll v8.6.0+0\n",
      "  [e37daf67] + LibGit2_jll v1.7.2+0\n",
      "  [29816b5a] + LibSSH2_jll v1.11.0+1\n",
      "  [c8ffd9c3] + MbedTLS_jll v2.28.6+0\n",
      "  [14a3606d] + MozillaCACerts_jll v2023.12.12\n",
      "  [4536629a] + OpenBLAS_jll v0.3.27+1\n",
      "  [05823500] + OpenLibm_jll v0.8.1+2\n",
      "  [bea87d4a] + SuiteSparse_jll v7.7.0+0\n",
      "  [83775a58] + Zlib_jll v1.2.13+1\n",
      "  [8e850b90] + libblastrampoline_jll v5.11.0+0\n",
      "  [8e850ede] + nghttp2_jll v1.59.0+0\n",
      "  [3f19e933] + p7zip_jll v17.4.0+2\n",
      "        Info Packages marked with ⌅ have new versions available but compatibility constraints restrict them from upgrading. To see why use `status --outdated -m`\n",
      "Precompiling project...\n",
      "    618.8 ms  ✓ Hwloc_jll\n",
      "    588.9 ms  ✓ SPRAL_jll\n",
      "    580.9 ms  ✓ Ipopt_jll\n",
      "   1977.4 ms  ? NemoMod\n",
      "   6308.4 ms  ✓ Ipopt\n",
      "   8570.6 ms  ✓ HiGHS\n",
      "  5 dependencies successfully precompiled in 10 seconds. 116 already precompiled.\n",
      "  1 dependencies failed but may be precompilable after restarting julia\n",
      "  1 dependency had output during precompilation:\n",
      "┌ NemoMod\n",
      "│  WARNING: Method definition parse_line(String) in module ConfParser at /home/fabian_fuentes/.julia/packages/ConfParser/b2fge/src/ConfParser.jl:95 overwritten in module NemoMod at /home/fabian_fuentes/.julia/packages/NemoMod/p49Bn/src/other_functions.jl:35.\n",
      "│  ERROR: Method overwriting is not permitted during Module precompilation. Use `__precompile__(false)` to opt-out of precompilation.\n",
      "└  \n",
      "  No Changes to `~/anaconda3/envs/ssp/lib/python3.11/site-packages/sisepuede/julia/Project.toml`\n",
      "  No Changes to `~/anaconda3/envs/ssp/lib/python3.11/site-packages/sisepuede/julia/Manifest.toml`\n",
      "Precompiling project...\n",
      "   2109.4 ms  ? NemoMod\n"
     ]
    },
    {
     "name": "stdout",
     "output_type": "stream",
     "text": [
      "Detected IPython. Loading juliacall extension. See https://juliapy.github.io/PythonCall.jl/stable/compat/#IPython\n"
     ]
    },
    {
     "name": "stderr",
     "output_type": "stream",
     "text": [
      "Precompiling NemoMod...\n",
      "Info Given NemoMod was explicitly requested, output will be shown live \u001b[0K\n",
      "\u001b[0KWARNING: Method definition parse_line(String) in module ConfParser at /home/fabian_fuentes/.julia/packages/ConfParser/b2fge/src/ConfParser.jl:95 overwritten in module NemoMod at /home/fabian_fuentes/.julia/packages/NemoMod/p49Bn/src/other_functions.jl:35.\n",
      "\u001b[0KERROR: Method overwriting is not permitted during Module precompilation. Use `__precompile__(false)` to opt-out of precompilation.\n",
      "   1844.0 ms  ? NemoMod\n",
      "[ Info: Precompiling NemoMod [a3c327a0-d2f0-11e8-37fd-d12fd35c3c72] \n",
      "WARNING: Method definition parse_line(String) in module ConfParser at /home/fabian_fuentes/.julia/packages/ConfParser/b2fge/src/ConfParser.jl:95 overwritten in module NemoMod at /home/fabian_fuentes/.julia/packages/NemoMod/p49Bn/src/other_functions.jl:35.\n",
      "ERROR: Method overwriting is not permitted during Module precompilation. Use `__precompile__(false)` to opt-out of precompilation.\n",
      "┌ Info: Skipping precompilation due to precompilable error. Importing NemoMod [a3c327a0-d2f0-11e8-37fd-d12fd35c3c72].\n",
      "└   exception = Error when precompiling module, potentially caused by a __precompile__(false) declaration in the module.\n",
      "2024-11-07 10:31:08,073 - INFO - Successfully initialized JuMP optimizer from solver module HiGHS.\n",
      "2024-11-07 10:31:08,102 - INFO - Successfully initialized SISEPUEDEModels.\n",
      "2024-11-07 10:31:08,111 - INFO - Table ANALYSIS_METADATA successfully written to /home/fabian_fuentes/anaconda3/envs/ssp/lib/python3.11/site-packages/sisepuede/out/sisepuede_run_2024-11-07T10;29;32.900079/sisepuede_run_2024-11-07T10;29;32.900079_output_database/ANALYSIS_METADATA.csv.\n",
      "2024-11-07 10:31:08,112 - INFO - Table ATTRIBUTE_DESIGN successfully written to /home/fabian_fuentes/anaconda3/envs/ssp/lib/python3.11/site-packages/sisepuede/out/sisepuede_run_2024-11-07T10;29;32.900079/sisepuede_run_2024-11-07T10;29;32.900079_output_database/ATTRIBUTE_DESIGN.csv.\n",
      "2024-11-07 10:31:08,114 - INFO - Table ATTRIBUTE_STRATEGY successfully written to /home/fabian_fuentes/anaconda3/envs/ssp/lib/python3.11/site-packages/sisepuede/out/sisepuede_run_2024-11-07T10;29;32.900079/sisepuede_run_2024-11-07T10;29;32.900079_output_database/ATTRIBUTE_STRATEGY.csv.\n",
      "2024-11-07 10:31:08,236 - INFO - Table MODEL_BASE_INPUT_DATABASE successfully written to /home/fabian_fuentes/anaconda3/envs/ssp/lib/python3.11/site-packages/sisepuede/out/sisepuede_run_2024-11-07T10;29;32.900079/sisepuede_run_2024-11-07T10;29;32.900079_output_database/MODEL_BASE_INPUT_DATABASE.csv.\n"
     ]
    }
   ],
   "source": [
    "import sisepuede as si\n",
    "\n",
    "ssp = si.SISEPUEDE(\n",
    "    \"calibrated\",\n",
    "    db_type = \"csv\",\n",
    "    initialize_as_dummy = False, # no connection to Julia is initialized if set to True\n",
    "    regions = [\"iran\"],\n",
    "    strategies = strategies,\n",
    "    try_exogenous_xl_types_in_variable_specification = True,\n",
    ")"
   ]
  },
  {
   "cell_type": "code",
   "execution_count": 25,
   "id": "3e24634e-19a9-457f-909f-be5696f1ed14",
   "metadata": {},
   "outputs": [
    {
     "name": "stderr",
     "output_type": "stream",
     "text": [
      "2024-11-07 10:31:08,277 - INFO - \n",
      "***\tSTARTING REGION iran\t***\n",
      "\n",
      "2024-11-07 10:31:10,929 - INFO - Trying run primary_id = 0 in region iran\n",
      "2024-11-07 10:31:10,929 - INFO - Running AFOLU model\n",
      "2024-11-07 10:31:11,059 - INFO - AFOLU model run successfully completed\n",
      "2024-11-07 10:31:11,060 - INFO - Running CircularEconomy model\n",
      "2024-11-07 10:31:11,099 - INFO - CircularEconomy model run successfully completed\n",
      "2024-11-07 10:31:11,099 - INFO - Running IPPU model\n",
      "2024-11-07 10:31:11,160 - INFO - IPPU model run successfully completed\n",
      "2024-11-07 10:31:11,161 - INFO - Running Energy model (EnergyConsumption without Fugitive Emissions)\n",
      "2024-11-07 10:31:11,175 - DEBUG - Missing elasticity information found in 'project_energy_consumption_by_fuel_from_effvars': using specified future demands.\n",
      "2024-11-07 10:31:11,249 - INFO - EnergyConsumption without Fugitive Emissions model run successfully completed\n",
      "2024-11-07 10:31:11,250 - INFO - Running Energy model (Electricity and Fuel Production: trying to call Julia)\n",
      "2024-11-07 10:31:11,276 - INFO - \tPath to temporary NemoMod database '/home/fabian_fuentes/anaconda3/envs/ssp/lib/python3.11/site-packages/sisepuede/tmp/nemomod_intermediate_database.sqlite' not found. Creating...\n"
     ]
    },
    {
     "name": "stdout",
     "output_type": "stream",
     "text": [
      "2024-07-Nov 10:31:11.655 Opened SQLite database at /home/fabian_fuentes/anaconda3/envs/ssp/lib/python3.11/site-packages/sisepuede/tmp/nemomod_intermediate_database.sqlite.\n",
      "2024-07-Nov 10:31:11.897 Added NEMO structure to SQLite database at /home/fabian_fuentes/anaconda3/envs/ssp/lib/python3.11/site-packages/sisepuede/tmp/nemomod_intermediate_database.sqlite.\n",
      "2024-07-Nov 10:31:24.384 Started modeling scenario. NEMO version = 2.0.0, solver = HiGHS.\n"
     ]
    },
    {
     "name": "stderr",
     "output_type": "stream",
     "text": [
      "┌ Warning: Model period emission limits (ModelPeriodEmissionLimit parameter) are not enforced when modeling selected years.\n",
      "└ @ NemoMod ~/.julia/packages/NemoMod/p49Bn/src/scenario_calculation.jl:6112\n",
      "2024-11-07 10:32:22,026 - INFO - NemoMod ran successfully with the following status: OPTIMAL\n",
      "2024-11-07 10:32:22,038 - INFO - EnergyProduction model run successfully completed\n",
      "2024-11-07 10:32:22,038 - INFO - Running Energy (Fugitive Emissions)\n"
     ]
    },
    {
     "name": "stdout",
     "output_type": "stream",
     "text": [
      "2024-07-Nov 10:32:21.850 Finished modeling scenario.\n"
     ]
    },
    {
     "name": "stderr",
     "output_type": "stream",
     "text": [
      "2024-11-07 10:32:22,079 - INFO - Fugitive Emissions from Energy model run successfully completed\n",
      "2024-11-07 10:32:22,079 - INFO - Appending Socioeconomic outputs\n",
      "2024-11-07 10:32:22,088 - INFO - Socioeconomic outputs successfully appended.\n",
      "2024-11-07 10:32:22,092 - INFO - Model run for primary_id = 0 successfully completed in 71.16 seconds (n_tries = 1).\n",
      "2024-11-07 10:32:22,114 - INFO - Trying run primary_id = 69069 in region iran\n",
      "2024-11-07 10:32:22,115 - INFO - Running AFOLU model\n",
      "2024-11-07 10:32:22,267 - INFO - AFOLU model run successfully completed\n",
      "2024-11-07 10:32:22,267 - INFO - Running CircularEconomy model\n",
      "2024-11-07 10:32:22,315 - INFO - CircularEconomy model run successfully completed\n",
      "2024-11-07 10:32:22,316 - INFO - Running IPPU model\n",
      "2024-11-07 10:32:22,390 - INFO - IPPU model run successfully completed\n",
      "2024-11-07 10:32:22,391 - INFO - Running Energy model (EnergyConsumption without Fugitive Emissions)\n",
      "2024-11-07 10:32:22,407 - DEBUG - Missing elasticity information found in 'project_energy_consumption_by_fuel_from_effvars': using specified future demands.\n",
      "2024-11-07 10:32:22,498 - INFO - EnergyConsumption without Fugitive Emissions model run successfully completed\n",
      "2024-11-07 10:32:22,498 - INFO - Running Energy model (Electricity and Fuel Production: trying to call Julia)\n"
     ]
    },
    {
     "name": "stdout",
     "output_type": "stream",
     "text": [
      "2024-07-Nov 10:32:23.554 Started modeling scenario. NEMO version = 2.0.0, solver = HiGHS.\n"
     ]
    },
    {
     "name": "stderr",
     "output_type": "stream",
     "text": [
      "┌ Warning: Model period emission limits (ModelPeriodEmissionLimit parameter) are not enforced when modeling selected years.\n",
      "└ @ NemoMod ~/.julia/packages/NemoMod/p49Bn/src/scenario_calculation.jl:6112\n",
      "2024-11-07 10:33:27,173 - INFO - NemoMod ran successfully with the following status: OPTIMAL\n",
      "2024-11-07 10:33:27,184 - INFO - EnergyProduction model run successfully completed\n",
      "2024-11-07 10:33:27,185 - INFO - Running Energy (Fugitive Emissions)\n"
     ]
    },
    {
     "name": "stdout",
     "output_type": "stream",
     "text": [
      "2024-07-Nov 10:33:27.016 Finished modeling scenario.\n"
     ]
    },
    {
     "name": "stderr",
     "output_type": "stream",
     "text": [
      "2024-11-07 10:33:27,223 - INFO - Fugitive Emissions from Energy model run successfully completed\n",
      "2024-11-07 10:33:27,224 - INFO - Appending Socioeconomic outputs\n",
      "2024-11-07 10:33:27,231 - INFO - Socioeconomic outputs successfully appended.\n",
      "2024-11-07 10:33:27,234 - INFO - Model run for primary_id = 69069 successfully completed in 65.12 seconds (n_tries = 1).\n",
      "2024-11-07 10:33:27,240 - INFO - Trying run primary_id = 70070 in region iran\n",
      "2024-11-07 10:33:27,240 - INFO - Running AFOLU model\n",
      "2024-11-07 10:33:27,401 - INFO - AFOLU model run successfully completed\n",
      "2024-11-07 10:33:27,401 - INFO - Running CircularEconomy model\n",
      "2024-11-07 10:33:27,444 - INFO - CircularEconomy model run successfully completed\n",
      "2024-11-07 10:33:27,445 - INFO - Running IPPU model\n",
      "2024-11-07 10:33:27,510 - INFO - IPPU model run successfully completed\n",
      "2024-11-07 10:33:27,510 - INFO - Running Energy model (EnergyConsumption without Fugitive Emissions)\n",
      "2024-11-07 10:33:27,525 - DEBUG - Missing elasticity information found in 'project_energy_consumption_by_fuel_from_effvars': using specified future demands.\n",
      "2024-11-07 10:33:27,604 - INFO - EnergyConsumption without Fugitive Emissions model run successfully completed\n",
      "2024-11-07 10:33:27,605 - INFO - Running Energy model (Electricity and Fuel Production: trying to call Julia)\n"
     ]
    },
    {
     "name": "stdout",
     "output_type": "stream",
     "text": [
      "2024-07-Nov 10:33:28.723 Started modeling scenario. NEMO version = 2.0.0, solver = HiGHS.\n"
     ]
    },
    {
     "name": "stderr",
     "output_type": "stream",
     "text": [
      "┌ Warning: Model period emission limits (ModelPeriodEmissionLimit parameter) are not enforced when modeling selected years.\n",
      "└ @ NemoMod ~/.julia/packages/NemoMod/p49Bn/src/scenario_calculation.jl:6112\n",
      "2024-11-07 10:34:27,960 - INFO - NemoMod ran successfully with the following status: OPTIMAL\n",
      "2024-11-07 10:34:27,970 - INFO - EnergyProduction model run successfully completed\n",
      "2024-11-07 10:34:27,970 - INFO - Running Energy (Fugitive Emissions)\n",
      "2024-11-07 10:34:28,002 - INFO - Fugitive Emissions from Energy model run successfully completed\n",
      "2024-11-07 10:34:28,003 - INFO - Appending Socioeconomic outputs\n",
      "2024-11-07 10:34:28,009 - INFO - Socioeconomic outputs successfully appended.\n",
      "2024-11-07 10:34:28,012 - INFO - Model run for primary_id = 70070 successfully completed in 60.77 seconds (n_tries = 1).\n",
      "2024-11-07 10:34:28,016 - INFO - Trying run primary_id = 71071 in region iran\n",
      "2024-11-07 10:34:28,017 - INFO - Running AFOLU model\n"
     ]
    },
    {
     "name": "stdout",
     "output_type": "stream",
     "text": [
      "2024-07-Nov 10:34:27.814 Finished modeling scenario.\n"
     ]
    },
    {
     "name": "stderr",
     "output_type": "stream",
     "text": [
      "2024-11-07 10:34:28,151 - INFO - AFOLU model run successfully completed\n",
      "2024-11-07 10:34:28,151 - INFO - Running CircularEconomy model\n",
      "2024-11-07 10:34:28,192 - INFO - CircularEconomy model run successfully completed\n",
      "2024-11-07 10:34:28,193 - INFO - Running IPPU model\n",
      "2024-11-07 10:34:28,255 - INFO - IPPU model run successfully completed\n",
      "2024-11-07 10:34:28,256 - INFO - Running Energy model (EnergyConsumption without Fugitive Emissions)\n",
      "2024-11-07 10:34:28,269 - DEBUG - Missing elasticity information found in 'project_energy_consumption_by_fuel_from_effvars': using specified future demands.\n",
      "2024-11-07 10:34:28,344 - INFO - EnergyConsumption without Fugitive Emissions model run successfully completed\n",
      "2024-11-07 10:34:28,344 - INFO - Running Energy model (Electricity and Fuel Production: trying to call Julia)\n"
     ]
    },
    {
     "name": "stdout",
     "output_type": "stream",
     "text": [
      "2024-07-Nov 10:34:29.709 Started modeling scenario. NEMO version = 2.0.0, solver = HiGHS.\n"
     ]
    },
    {
     "name": "stderr",
     "output_type": "stream",
     "text": [
      "┌ Warning: Model period emission limits (ModelPeriodEmissionLimit parameter) are not enforced when modeling selected years.\n",
      "└ @ NemoMod ~/.julia/packages/NemoMod/p49Bn/src/scenario_calculation.jl:6112\n",
      "2024-11-07 10:35:21,794 - INFO - NemoMod ran successfully with the following status: OPTIMAL\n",
      "2024-11-07 10:35:21,806 - INFO - EnergyProduction model run successfully completed\n",
      "2024-11-07 10:35:21,807 - INFO - Running Energy (Fugitive Emissions)\n"
     ]
    },
    {
     "name": "stdout",
     "output_type": "stream",
     "text": [
      "2024-07-Nov 10:35:21.618 Finished modeling scenario.\n"
     ]
    },
    {
     "name": "stderr",
     "output_type": "stream",
     "text": [
      "2024-11-07 10:35:21,846 - INFO - Fugitive Emissions from Energy model run successfully completed\n",
      "2024-11-07 10:35:21,846 - INFO - Appending Socioeconomic outputs\n",
      "2024-11-07 10:35:21,853 - INFO - Socioeconomic outputs successfully appended.\n",
      "2024-11-07 10:35:21,856 - INFO - Model run for primary_id = 71071 successfully completed in 53.84 seconds (n_tries = 1).\n",
      "2024-11-07 10:35:21,858 - INFO - \n",
      "***\t REGION iran COMPLETE\t***\n",
      "\n",
      "2024-11-07 10:35:21,957 - INFO - Table MODEL_OUTPUT successfully written to /home/fabian_fuentes/anaconda3/envs/ssp/lib/python3.11/site-packages/sisepuede/out/sisepuede_run_2024-11-07T10;29;32.900079/sisepuede_run_2024-11-07T10;29;32.900079_output_database/MODEL_OUTPUT.csv.\n",
      "2024-11-07 10:35:21,960 - INFO - Table ATTRIBUTE_PRIMARY successfully written to /home/fabian_fuentes/anaconda3/envs/ssp/lib/python3.11/site-packages/sisepuede/out/sisepuede_run_2024-11-07T10;29;32.900079/sisepuede_run_2024-11-07T10;29;32.900079_output_database/ATTRIBUTE_PRIMARY.csv.\n",
      "2024-11-07 10:35:22,073 - INFO - Table MODEL_INPUT successfully written to /home/fabian_fuentes/anaconda3/envs/ssp/lib/python3.11/site-packages/sisepuede/out/sisepuede_run_2024-11-07T10;29;32.900079/sisepuede_run_2024-11-07T10;29;32.900079_output_database/MODEL_INPUT.csv.\n"
     ]
    },
    {
     "data": {
      "text/plain": [
       "{'iran': [0, 69069, 70070, 71071]}"
      ]
     },
     "execution_count": 25,
     "metadata": {},
     "output_type": "execute_result"
    }
   ],
   "source": [
    "dict_scens = {\n",
    "    ssp.key_design: [0],\n",
    "    ssp.key_future: [0],\n",
    "    ssp.key_strategy: [0, 6003, 6004, 6005],\n",
    "}\n",
    "\n",
    "ssp.project_scenarios(\n",
    "    dict_scens,\n",
    "    save_inputs = True,\n",
    ")"
   ]
  },
  {
   "cell_type": "code",
   "execution_count": null,
   "id": "5095a3bd-5f6e-44a5-bc79-23d947f40e59",
   "metadata": {},
   "outputs": [],
   "source": [
    "# df_run = ssp.generate_scenario_database_from_primary_key(0)\n",
    "# df_run = df_run.get(\"iran\")\n",
    "# df_run.to_csv(\"/Users/usuario/Desktop/iran_baselines_temp.csv\", encoding = \"UTF-8\", index = None, )"
   ]
  },
  {
   "cell_type": "code",
   "execution_count": 26,
   "id": "618f54b8-82f4-47e0-99a0-47b894039ccc",
   "metadata": {},
   "outputs": [],
   "source": [
    "df_output = ssp.read_output(None)"
   ]
  },
  {
   "cell_type": "code",
   "execution_count": 27,
   "id": "e80a270c-6865-4b6e-a4f1-bb1f8f37c6a9",
   "metadata": {},
   "outputs": [
    {
     "data": {
      "text/plain": [
       "array([    0, 69069, 70070, 71071])"
      ]
     },
     "execution_count": 27,
     "metadata": {},
     "output_type": "execute_result"
    }
   ],
   "source": [
    "df_output[ssp.key_primary].unique()"
   ]
  },
  {
   "cell_type": "code",
   "execution_count": 29,
   "id": "99c23348-43e8-4b9d-bd5c-d0610315d2f9",
   "metadata": {},
   "outputs": [
    {
     "data": {
      "image/png": "[encoded data removed]",
      "text/plain": [
       "<Figure size 1800x800 with 1 Axes>"
      ]
     },
     "metadata": {},
     "output_type": "display_data"
    }
   ],
   "source": [
    "\n",
    "fig, ax = plt.subplots(figsize = (18, 8))\n",
    "ax.set_xlabel(\"Time Period\")\n",
    "ax.set_ylabel(\"MT Emissions CO2e \")\n",
    "\n",
    "df_plot = df_output[\n",
    "    df_output[ssp.key_primary].isin([0])\n",
    "]\n",
    "\n",
    "\n",
    "fields = matt.get_all_subsector_emission_total_fields()#[x for x in df_out.columns if (x.startswith(\"emission_co2e_subsector_total\"))]\n",
    "dict_format = dict(\n",
    "    (k, {\"color\": v}) for (k, v) in\n",
    "    matt.get_subsector_color_map().items()\n",
    ")\n",
    "\n",
    "fig, ax = spu.plot_stack(\n",
    "    df_plot,\n",
    "    fields,\n",
    "    dict_formatting = dict_format,\n",
    "    field_x = \"time_period\",\n",
    "    figtuple = (fig, ax),\n",
    ")\n",
    "\n"
   ]
  },
  {
   "cell_type": "markdown",
   "id": "5bf46be0-6ab4-4731-b922-eb21eeefef7b",
   "metadata": {},
   "source": [
    "# Export Wide File"
   ]
  },
  {
   "cell_type": "code",
   "execution_count": 31,
   "id": "f8ac388d-9ff2-45fc-a49a-ad5af38a0b07",
   "metadata": {},
   "outputs": [],
   "source": [
    "df_out = ssp.read_output(None)\n",
    "#df_in = ssp.read_input(None)\n",
    "\n",
    "all_primaries = sorted(list(df_out[ssp.key_primary].unique()))\n",
    "df_in = []\n",
    " \n",
    "for region in ssp.regions:\n",
    "    for primary in all_primaries: \n",
    "        df_in_filt = ssp.generate_scenario_database_from_primary_key(primary)\n",
    "        df_in.append(df_in_filt.get(region))\n",
    "\n",
    "df_in = pd.concat(df_in, axis = 0).reset_index(drop = True)\n",
    "\n",
    "df_export = pd.merge(\n",
    "    df_out,\n",
    "    df_in,\n",
    "    how = \"left\",\n",
    ")\n",
    "\n",
    "\n",
    "\n",
    "\n",
    "\n",
    "# check output directory \n",
    "dir_pkg = os.path.join(\n",
    "    ssp.file_struct.dir_out, \n",
    "    f\"sisepuede_summary_results_run_{ssp.id_fs_safe}\"\n",
    ")\n",
    "os.makedirs(dir_pkg) if not os.path.exists(dir_pkg) else None\n",
    "\n",
    "\n",
    "for tab in [\"ATTRIBUTE_STRATEGY\"]:\n",
    "    ssp.database.db.read_table(tab).to_csv(\n",
    "        os.path.join(dir_pkg, f\"{tab}.csv\"),\n",
    "        index = None,\n",
    "        encoding = \"UTF-8\"\n",
    "    )\n",
    "\n",
    "\n",
    "df_primary = (\n",
    "    ssp\n",
    "    .odpt_primary\n",
    "    .get_indexing_dataframe(\n",
    "        sorted(list(df_out[ssp.key_primary].unique()))\n",
    "    )\n",
    ")\n",
    "    \n",
    "df_primary.to_csv(\n",
    "    os.path.join(dir_pkg, f\"ATTRIBUTE_PRIMARY.csv\"),\n",
    "    index = None,\n",
    "    encoding = \"UTF-8\"\n",
    ")\n",
    "\n",
    "df_export.to_csv(\n",
    "    os.path.join(dir_pkg, f\"sisepuede_results_{ssp.id_fs_safe}_WIDE_INPUTS_OUTPUTS.csv\"),\n",
    "    index = None,\n",
    "    encoding = \"UTF-8\"\n",
    ")"
   ]
  },
  {
   "cell_type": "code",
   "execution_count": 32,
   "id": "291e485f-934d-4c89-ad51-b974fa59569a",
   "metadata": {},
   "outputs": [
    {
     "data": {
      "text/plain": [
       "'/home/fabian_fuentes/anaconda3/envs/ssp/lib/python3.11/site-packages/sisepuede/out'"
      ]
     },
     "execution_count": 32,
     "metadata": {},
     "output_type": "execute_result"
    }
   ],
   "source": [
    "ssp.file_struct.dir_out"
   ]
  }
 ],
 "metadata": {
  "kernelspec": {
   "display_name": "ssp",
   "language": "python",
   "name": "python3"
  },
  "language_info": {
   "codemirror_mode": {
    "name": "ipython",
    "version": 3
   },
   "file_extension": ".py",
   "mimetype": "text/x-python",
   "name": "python",
   "nbconvert_exporter": "python",
   "pygments_lexer": "ipython3",
   "version": "3.11.10"
  }
 },
 "nbformat": 4,
 "nbformat_minor": 5
}
